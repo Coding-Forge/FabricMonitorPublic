{
 "cells": [
  {
   "cell_type": "markdown",
   "metadata": {},
   "source": [
    "# Fabric Monitor  \n",
    "\n",
    "This notebook is the main notebook from which we can call specific functions to run tasks like getting data for activity, catalog, graph, and tenant"
   ]
  },
  {
   "cell_type": "markdown",
   "metadata": {},
   "source": [
    "packages to be used in the notebook"
   ]
  },
  {
   "cell_type": "code",
   "execution_count": null,
   "metadata": {},
   "outputs": [],
   "source": [
    "import os\n",
    "import requests\n",
    "import pandas as pd\n",
    "import json\n",
    "\n",
    "from datetime import datetime\n",
    "from datetime import timedelta\n",
    "from adal import AuthenticationContext\n",
    "from azure.identity import ClientSecretCredential\n",
    "from azure.storage.filedatalake import FileSystemClient, DataLakeDirectoryClient\n",
    "from utility.helper import Bob\n",
    "from utility.fabric import File_Table_Management"
   ]
  },
  {
   "cell_type": "markdown",
   "metadata": {},
   "source": [
    "### Application Functions\n",
    "\n",
    "functions and classes are held in the utility folder. The folder has `helper.py` and `fabric.py`. These files contain `Bob` and `File_Table_Management` respectively\n",
    "\n",
    "> To work with files on lakehouse or warehouse see examples  \n",
    "> using service principals with fabric lakehouse and warehouse  \n",
    "> [Fabric Service Principals](https://debruyn.dev/2023/how-to-use-service-principal-authentication-to-access-microsoft-fabrics-onelake/)  \n",
    " > [Microsoft Docs](https://github.com/MicrosoftDocs/fabric-docs/blob/main/docs/onelake/onelake-access-python.md)  \n",
    " \n",
    " ```\n",
    "     paths = file_system_client.get_paths(path=f\"/{lakehouse name}.Lakehouse/Files/\")\n",
    "     for p in paths:\n",
    "         print(p.name)\n",
    " \n",
    " \n",
    "     paths = file_system_client.get_paths(path=f\"/{warehouse name}.Warehouse/Tables/\")\n",
    "     for p in paths:\n",
    "         print(p.name)\n",
    " ```"
   ]
  },
  {
   "cell_type": "code",
   "execution_count": null,
   "metadata": {},
   "outputs": [],
   "source": [
    "outputBatchCount = 5000\n",
    "api_root = \"https://api.powerbi.com/v1.0/myorg/\""
   ]
  },
  {
   "cell_type": "markdown",
   "metadata": {},
   "source": [
    "## Get Modified Activities since last run date\n",
    " \n",
    "Get the lastRun date that is written in the state file. this date will be used to get workspaces that have been modified after the recorded date\n",
    " \n",
    "```\n",
    "activity = dict()\n",
    "activity[\"lastRun\"]= (datetime.now() + timedelta(days=-15)).strftime('%Y-%m-%dT%H:%M:%SZ')\n",
    " \n",
    " \n",
    "with open('settings.json', 'w') as file:\n",
    "     file.write(json.dumps(activity))\n",
    "```"
   ]
  },
  {
   "cell_type": "code",
   "execution_count": 6,
   "metadata": {},
   "outputs": [],
   "source": [
    "with open('../config.json', 'r') as file:\n",
    "    f = file.readlines()\n",
    "\n",
    "if isinstance(f, str):\n",
    "    app_settings = json.loads(f)\n",
    "    print(app_settings)"
   ]
  },
  {
   "cell_type": "code",
   "execution_count": null,
   "metadata": {},
   "outputs": [],
   "source": []
  }
 ],
 "metadata": {
  "kernelspec": {
   "display_name": "fabric",
   "language": "python",
   "name": "python3"
  },
  "language_info": {
   "codemirror_mode": {
    "name": "ipython",
    "version": 3
   },
   "file_extension": ".py",
   "mimetype": "text/x-python",
   "name": "python",
   "nbconvert_exporter": "python",
   "pygments_lexer": "ipython3",
   "version": "3.10.13"
  }
 },
 "nbformat": 4,
 "nbformat_minor": 2
}
