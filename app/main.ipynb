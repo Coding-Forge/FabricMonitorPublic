{
 "cells": [
  {
   "cell_type": "markdown",
   "metadata": {},
   "source": [
    "# Fabric Monitor  \n",
    "\n",
    "This notebook is the main notebook from which we can call specific functions to run tasks like getting data for activity, catalog, graph, and tenant"
   ]
  },
  {
   "cell_type": "markdown",
   "metadata": {},
   "source": [
    "packages to be used in the notebook"
   ]
  },
  {
   "cell_type": "code",
   "execution_count": null,
   "metadata": {},
   "outputs": [],
   "source": [
    "import os\n",
    "import requests\n",
    "import pandas as pd\n",
    "import json\n",
    "\n",
    "from datetime import datetime\n",
    "from datetime import timedelta\n",
    "from adal import AuthenticationContext\n",
    "from azure.identity import ClientSecretCredential\n",
    "from azure.storage.filedatalake import FileSystemClient, DataLakeDirectoryClient"
   ]
  },
  {
   "cell_type": "markdown",
   "metadata": {},
   "source": [
    "### Utility functions\n",
    "\n",
    "> To work with files on lakehouse or warehouse see examples  \n",
    "> using service principals with fabric lakehouse and warehouse  \n",
    "> [Fabric Service Principals](https://debruyn.dev/2023/how-to-use-service-principal-authentication-to-access-microsoft-fabrics-onelake/)  \n",
    " > [Microsoft Docs](https://github.com/MicrosoftDocs/fabric-docs/blob/main/docs/onelake/onelake-access-python.md)  \n",
    " \n",
    " ```\n",
    "     paths = file_system_client.get_paths(path=f\"/{lakehouse name}.Lakehouse/Files/\")\n",
    "     for p in paths:\n",
    "         print(p.name)\n",
    " \n",
    " \n",
    "     paths = file_system_client.get_paths(path=f\"/{warehouse name}.Warehouse/Tables/\")\n",
    "     for p in paths:\n",
    "         print(p.name)\n",
    " ```"
   ]
  }
 ],
 "metadata": {
  "kernelspec": {
   "display_name": "fabric",
   "language": "python",
   "name": "python3"
  },
  "language_info": {
   "name": "python",
   "version": "3.10.13"
  }
 },
 "nbformat": 4,
 "nbformat_minor": 2
}
