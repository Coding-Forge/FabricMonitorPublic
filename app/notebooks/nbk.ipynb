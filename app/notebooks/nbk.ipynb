{
 "cells": [
  {
   "cell_type": "code",
   "execution_count": 21,
   "metadata": {},
   "outputs": [],
   "source": [
    "import os\n",
    "import requests\n",
    "import pandas as pd\n",
    "import json\n",
    "import asyncio\n",
    "\n",
    "from datetime import datetime\n",
    "from datetime import timedelta\n",
    "import sys\n",
    "sys.path.append(\"../../\")\n",
    "from app.utility.helps import Bob\n",
    "from app.utility.fab2 import File_Table_Management"
   ]
  },
  {
   "cell_type": "code",
   "execution_count": 22,
   "metadata": {},
   "outputs": [
    {
     "data": {
      "text/plain": [
       "'/home/brandon/projects/fabric/monitor/FabricMonitor/app/notebooks'"
      ]
     },
     "execution_count": 22,
     "metadata": {},
     "output_type": "execute_result"
    }
   ],
   "source": [
    "os.getcwd()"
   ]
  },
  {
   "cell_type": "code",
   "execution_count": 12,
   "metadata": {},
   "outputs": [],
   "source": [
    "bob = Bob()\n",
    "# get POWER BI context and settings -- this call must be synchronous\n",
    "settings = bob.get_settings()\n",
    "headers = bob.get_context()\n",
    "\n",
    "FF = File_Table_Management(\n",
    "    tenant_id=settings['ServicePrincipal']['TenantId'],\n",
    "    client_id=settings['ServicePrincipal']['AppId'],\n",
    "    client_secret=settings['ServicePrincipal']['AppSecret'],\n",
    "    workspace_name=settings['WorkspaceName']\n",
    ")\n",
    "\n",
    "lakehouse_catalog = f\"{settings['LakehouseName']}.Lakehouse/Files/catalog/\"\n",
    "\n",
    "##################### INTIALIZE THE CONFIGURATION #####################\n",
    "today = datetime.now()\n"
   ]
  },
  {
   "cell_type": "code",
   "execution_count": 13,
   "metadata": {},
   "outputs": [
    {
     "name": "stdout",
     "output_type": "stream",
     "text": [
      "Checking if FabricLake.Lakehouse/Files/catalog/snapshots/2024/02/15 exists\n"
     ]
    }
   ],
   "source": [
    "\n",
    "snapshots =f\"snapshots/{today.strftime('%Y')}/{today.strftime('%m')}/{today.strftime('%d')}\"\n",
    "## check if file already exists\n",
    "#lakehouse_dir = f\"{lakehouse_catalog}{snapshots}\"\n",
    "lakehouse_dir = f\"{lakehouse_catalog}snapshots/2024/02/15\"\n",
    "\n",
    "print(f\"Checking if {lakehouse_dir} exists\")\n",
    "\n",
    "fsc = FF.get_file_system_client(\n",
    "    tenant_id=settings['ServicePrincipal']['TenantId'],\n",
    "    client_id=settings['ServicePrincipal']['AppId'],\n",
    "    client_secret=settings['ServicePrincipal']['AppSecret'],\n",
    "    workspace_name=settings['WorkspaceName']   \n",
    ")\n"
   ]
  },
  {
   "cell_type": "code",
   "execution_count": 14,
   "metadata": {},
   "outputs": [
    {
     "name": "stdout",
     "output_type": "stream",
     "text": [
      "Path: FabricLake.Lakehouse/Files/catalog/snapshots/2024/02/15/apps.json\n"
     ]
    }
   ],
   "source": [
    "\n",
    "try:\n",
    "    paths = fsc.get_paths(lakehouse_dir)\n",
    "    for path in paths:\n",
    "        print(f\"Path: {path.name}\")\n",
    "        if \"app.json\" in path.name:\n",
    "            print(f\"File {path.name} already exists\")\n",
    "            exit(0)\n",
    "\n",
    "except Exception as e:\n",
    "    print(f\"Error: {e} - continue with executing code\")    \n"
   ]
  },
  {
   "cell_type": "code",
   "execution_count": null,
   "metadata": {},
   "outputs": [],
   "source": [
    "\n",
    "dc = await FF.create_directory(file_system_client=FF.fsc, directory_name=lakehouse_dir)\n"
   ]
  }
 ],
 "metadata": {
  "kernelspec": {
   "display_name": "fabric",
   "language": "python",
   "name": "python3"
  },
  "language_info": {
   "codemirror_mode": {
    "name": "ipython",
    "version": 3
   },
   "file_extension": ".py",
   "mimetype": "text/x-python",
   "name": "python",
   "nbconvert_exporter": "python",
   "pygments_lexer": "ipython3",
   "version": "3.10.13"
  }
 },
 "nbformat": 4,
 "nbformat_minor": 2
}
