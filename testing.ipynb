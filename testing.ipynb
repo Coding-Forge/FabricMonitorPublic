{
 "cells": [
  {
   "cell_type": "code",
   "execution_count": 9,
   "metadata": {},
   "outputs": [],
   "source": [
    "import asyncio\n",
    "import json\n",
    "import requests\n",
    "\n",
    "\n",
    "from app.utility.helps import Bob"
   ]
  },
  {
   "cell_type": "code",
   "execution_count": 10,
   "metadata": {},
   "outputs": [],
   "source": [
    "bob = Bob()\n",
    "settings = bob.get_settings()\n",
    "headers = bob.get_context()"
   ]
  },
  {
   "cell_type": "code",
   "execution_count": null,
   "metadata": {},
   "outputs": [],
   "source": [
    "api_url = 'https://api.powerbi.com/v1.0/myorg/gateways'\n",
    "response = requests.get(url=api_url, headers=headers)\n",
    "results = response.json()\n",
    "print(response.status_code)\n",
    "gateways = list()\n",
    "for gateway in results['value']:\n",
    "    gateways.append(gateway.get(\"id\"))\n"
   ]
  },
  {
   "cell_type": "code",
   "execution_count": null,
   "metadata": {},
   "outputs": [],
   "source": [
    "r = list()\n",
    "for id in gateways:\n",
    "    response = requests.get(f'https://api.powerbi.com/v1.0/myorg/gateways/{id}/datasources', headers=headers)\n",
    "    doc_results = response.json()\n",
    "    r.append(doc_results['value'])   \n"
   ]
  },
  {
   "cell_type": "code",
   "execution_count": null,
   "metadata": {},
   "outputs": [],
   "source": [
    "gateways = list()\n",
    "\n",
    "for i in range(0, len(r)):\n",
    "    if isinstance(r[i], list):\n",
    "        for j in range(0, len(r[i])):\n",
    "            gateways.append(r[i][j])\n",
    "    else:\n",
    "        gateways.append(r[i])"
   ]
  },
  {
   "cell_type": "code",
   "execution_count": null,
   "metadata": {},
   "outputs": [],
   "source": [
    "gateways"
   ]
  },
  {
   "cell_type": "code",
   "execution_count": null,
   "metadata": {},
   "outputs": [],
   "source": [
    "users = list()\n",
    "\n",
    "for i in range(0,len(gateways)):\n",
    "    api_users = f'https://api.powerbi.com/v1.0/myorg/gateways/{gateways[i][\"gatewayId\"]}/datasources/{gateways[i][\"id\"]}/users'\n",
    "    response = requests.get(api_users, headers=headers)\n",
    "    results = response.json()\n",
    "    results['value'][0]['datasourceId'] = gateways[i][\"id\"]\n",
    "    results['value'][0]['gatewayId'] = gateways[i][\"gatewayId\"]\n",
    "    users.append(results['value'][0])\n",
    "    "
   ]
  },
  {
   "cell_type": "markdown",
   "metadata": {},
   "source": [
    "## Datasource Connectivity  \n",
    "\n",
    "This only reports back connectivity to the datasource as an error. Also, you need to use the response.text as the JSON is not populated. A successful connection will report back as HTTP 200 while a failed connection will result in HTTP 400"
   ]
  },
  {
   "cell_type": "code",
   "execution_count": null,
   "metadata": {},
   "outputs": [],
   "source": [
    "## This will be used for a template dictionary for a successful connection to the datasource\n",
    "status_base = {   \n",
    "    \"datasourceId\":\"\",\n",
    "    \"gatewayId\":\"\",\n",
    "    \"error\":\n",
    "    {\n",
    "        \"code\":\"success\",\n",
    "        \"pbi.error\":{ \n",
    "            \"code\":\"0\",\n",
    "            \"parameters\":{},\n",
    "            \"details\":[],\n",
    "            \"exceptionCulprit\":0\n",
    "        }\n",
    "    }\n",
    "}\n"
   ]
  },
  {
   "cell_type": "code",
   "execution_count": null,
   "metadata": {},
   "outputs": [],
   "source": [
    "status  = list()\n",
    "for i in range(0,len(gateways)):\n",
    "    api_status = f'https://api.powerbi.com/v1.0/myorg/gateways/{gateways[i][\"gatewayId\"]}/datasources/{gateways[i][\"id\"]}/status'\n",
    "    \n",
    "    response = requests.get(api_status, headers=headers)\n",
    "    if response.ok:\n",
    "        # response.json() is actually empty when it is a success\n",
    "        \n",
    "        status_base['datasourceId'] = gateways[i][\"id\"]\n",
    "        status_base['gatewayId'] = gateways[i][\"gatewayId\"]\n",
    "        status_base.get(\"error\").get(\"pbi.error\").get(\"details\").append({\"message\":\"success\",\"detail\":response.status_code})    \n",
    "        status.append(status_base)\n",
    "    else:\n",
    "        results = json.loads(response.text)\n",
    "        results[\"datasourceId\"] = gateways[i][\"id\"]\n",
    "        results[\"gatewayId\"] = gateways[i][\"gatewayId\"]\n",
    "        results.get(\"error\").get(\"pbi.error\").get(\"details\").append({\"message\":\"cannot connect\",\"detail\":response.status_code})    \n",
    "        status.append(results)\n"
   ]
  },
  {
   "cell_type": "code",
   "execution_count": null,
   "metadata": {},
   "outputs": [],
   "source": [
    "datasources = list()\n",
    "\n",
    "for i in range(0,len(gateways)):\n",
    "    api_datasource = f'https://api.powerbi.com/v1.0/myorg/gateways/{gateways[i][\"gatewayId\"]}/datasources/{gateways[i][\"id\"]}'\n",
    "    response = requests.get(api_datasource, headers=headers)\n",
    "    results = response.json()\n",
    "    results.pop('@odata.context')\n",
    "    datasources.append(results)\n"
   ]
  },
  {
   "cell_type": "markdown",
   "metadata": {},
   "source": []
  },
  {
   "cell_type": "code",
   "execution_count": null,
   "metadata": {},
   "outputs": [],
   "source": [
    "import smtplib\n",
    "from email.mime.text import MIMEText\n",
    "\n",
    "sender_email = 'brcampb@microsoft.com'\n",
    "receiver_email = 'brandonh.campbell@gmail.com'\n",
    "subject = 'Hello from Python!'\n",
    "body = 'This is a test email sent from a Python script.'\n",
    "\n",
    "msg = MIMEText(body)\n",
    "msg['Subject'] = subject\n",
    "msg['From'] = sender_email\n",
    "msg['To'] = receiver_email\n",
    "\n",
    "# Set up the SMTP server (e.g., Gmail)\n",
    "with smtplib.SMTP_SSL('smtp.gmail.com', 465) as server:\n",
    "    server.login(sender_email, 'your_password')\n",
    "    server.sendmail(sender_email, [receiver_email], msg.as_string())\n",
    "\n",
    "\n",
    "\n",
    "sender_email = 'your_email@example.com'\n",
    "receiver_email = 'recipient_email@example.com'\n",
    "subject = 'Hello from Python!'\n",
    "body = 'This is a test email sent from a Python script.'\n",
    "\n",
    "msg = MIMEText(body)\n",
    "msg['Subject'] = subject\n",
    "msg['From'] = sender_email\n",
    "msg['To'] = receiver_email\n",
    "\n",
    "# Set up the SMTP server (e.g., Outlook)\n",
    "with smtplib.SMTP('smtp.office365.com', 587) as server:\n",
    "    server.starttls()\n",
    "    server.login(sender_email, 'your_password')\n",
    "    server.sendmail(sender_email, [receiver_email], msg.as_string())\n"
   ]
  },
  {
   "cell_type": "code",
   "execution_count": null,
   "metadata": {},
   "outputs": [],
   "source": [
    "import smtplib\n",
    "from email.mime.text import MIMEText\n",
    "\n",
    "# Set up the SMTP server\n",
    "smtp_server = 'smtp.gmail.com'\n",
    "smtp_port = 587\n",
    "sender_email = 'your_email@example.com'\n",
    "password = 'your_password'\n",
    "\n",
    "# Create a message\n",
    "subject = 'Hello from Python!'\n",
    "body = 'This is a test email sent from a Python script.'\n",
    "msg = MIMEText(body)\n",
    "msg['Subject'] = subject\n",
    "msg['From'] = sender_email\n",
    "msg['To'] = 'recipient_email@example.com'\n",
    "\n",
    "# Send the email\n",
    "with smtplib.SMTP(smtp_server, smtp_port) as server:\n",
    "    server.starttls()\n",
    "    server.login(sender_email, password)\n",
    "    server.sendmail(sender_email, [msg['To']], msg.as_string())\n"
   ]
  },
  {
   "cell_type": "code",
   "execution_count": 14,
   "metadata": {},
   "outputs": [],
   "source": [
    "# rest_api = \"admin/capacities/refreshables\"\n",
    "# GET https://api.powerbi.com/v1.0/myorg/admin/groups?$expand=datasets\n",
    "# htpps://api.powerbi.com/v1.0/myorg/admin/groups?$expand=datasets\n",
    "rest_api = \"https://api.powerbi.com/v1.0/myorg/admin/groups?$expand=datasets&$top=5000\"\n",
    "\n",
    "response = requests.get(url=rest_api, headers=headers)\n",
    "result = response.json()\n"
   ]
  },
  {
   "cell_type": "code",
   "execution_count": null,
   "metadata": {},
   "outputs": [],
   "source": [
    "result"
   ]
  },
  {
   "cell_type": "code",
   "execution_count": 15,
   "metadata": {},
   "outputs": [
    {
     "name": "stdout",
     "output_type": "stream",
     "text": [
      "{'requestId': 'de2143d8-20a8-4064-b508-b80d08153074', 'id': 17140420, 'refreshType': 'Scheduled', 'startTime': '2024-04-02T06:00:06.16Z', 'endTime': '2024-04-02T06:00:34.377Z', 'status': 'Completed', 'refreshAttempts': [{'attemptId': 1, 'startTime': '2024-04-02T06:00:06.2834508Z', 'endTime': '2024-04-02T06:00:32.721383Z', 'type': 'Data'}, {'attemptId': 1, 'startTime': '2024-04-02T06:00:32.9713595Z', 'endTime': '2024-04-02T06:00:33.2369361Z', 'type': 'Query'}]}\n",
      "{'requestId': '70fd003f-a0b9-4b7c-9e9a-c47cee637e6d', 'id': 17106762, 'refreshType': 'Scheduled', 'startTime': '2024-04-01T06:00:08.077Z', 'endTime': '2024-04-01T06:00:40.03Z', 'status': 'Completed', 'refreshAttempts': [{'attemptId': 1, 'startTime': '2024-04-01T06:00:08.1865199Z', 'endTime': '2024-04-01T06:00:35.249288Z', 'type': 'Data'}, {'attemptId': 1, 'startTime': '2024-04-01T06:00:38.4211943Z', 'endTime': '2024-04-01T06:00:38.702446Z', 'type': 'Query'}]}\n",
      "{'requestId': '03f43547-95de-4607-ba46-39eabfd5ea9c', 'id': 17072787, 'refreshType': 'Scheduled', 'startTime': '2024-03-31T06:00:05.77Z', 'endTime': '2024-03-31T06:00:34.04Z', 'status': 'Completed', 'refreshAttempts': [{'attemptId': 1, 'startTime': '2024-03-31T06:00:05.8791086Z', 'endTime': '2024-03-31T06:00:31.8056373Z', 'type': 'Data'}, {'attemptId': 1, 'startTime': '2024-03-31T06:00:32.0711553Z', 'endTime': '2024-03-31T06:00:32.3680356Z', 'type': 'Query'}]}\n",
      "{'requestId': 'b63cbdfd-cdaf-4f10-bf92-a5df8e0784fd', 'id': 17038958, 'refreshType': 'Scheduled', 'startTime': '2024-03-30T06:00:03.617Z', 'endTime': '2024-03-30T06:00:35.5Z', 'status': 'Completed', 'refreshAttempts': [{'attemptId': 1, 'startTime': '2024-03-30T06:00:03.9300718Z', 'endTime': '2024-03-30T06:00:33.5482232Z', 'type': 'Data'}, {'attemptId': 1, 'startTime': '2024-03-30T06:00:33.8450547Z', 'endTime': '2024-03-30T06:00:34.0325518Z', 'type': 'Query'}]}\n",
      "{'requestId': '3a8f6d91-2e48-48c0-8e1b-2bbf93d50c6e', 'id': 16996589, 'refreshType': 'Scheduled', 'startTime': '2024-03-29T06:00:02.637Z', 'endTime': '2024-03-29T06:00:35.46Z', 'status': 'Completed', 'refreshAttempts': [{'attemptId': 1, 'startTime': '2024-03-29T06:00:02.996065Z', 'endTime': '2024-03-29T06:00:33.9445867Z', 'type': 'Data'}, {'attemptId': 1, 'startTime': '2024-03-29T06:00:34.1945431Z', 'endTime': '2024-03-29T06:00:34.3664194Z', 'type': 'Query'}]}\n",
      "{'requestId': '5b689861-86c1-5f2e-63f5-e67992864522', 'id': 16966164, 'refreshType': 'OnDemand', 'startTime': '2024-03-28T12:25:38.83Z', 'endTime': '2024-03-28T12:26:10.147Z', 'status': 'Completed', 'refreshAttempts': [{'attemptId': 1, 'startTime': '2024-03-28T12:25:38.8779636Z', 'endTime': '2024-03-28T12:26:08.2388771Z', 'type': 'Data'}, {'attemptId': 1, 'startTime': '2024-03-28T12:26:08.6764295Z', 'endTime': '2024-03-28T12:26:08.8326365Z', 'type': 'Query'}]}\n",
      "{'requestId': 'cfd1d9ef-43a8-4a58-b13d-a84d475639e1', 'id': 16955663, 'refreshType': 'Scheduled', 'startTime': '2024-03-28T06:00:03.037Z', 'endTime': '2024-03-28T06:00:37.773Z', 'status': 'Completed', 'refreshAttempts': [{'attemptId': 1, 'startTime': '2024-03-28T06:00:03.4751962Z', 'endTime': '2024-03-28T06:00:35.8992146Z', 'type': 'Data'}, {'attemptId': 1, 'startTime': '2024-03-28T06:00:36.1648533Z', 'endTime': '2024-03-28T06:00:36.3523478Z', 'type': 'Query'}]}\n",
      "{'requestId': 'a8bb9cae-6ece-4060-8202-36f5fbc34b09', 'id': 16917496, 'refreshType': 'Scheduled', 'startTime': '2024-03-27T06:00:02.99Z', 'endTime': '2024-03-27T06:00:35.24Z', 'status': 'Completed', 'refreshAttempts': [{'attemptId': 1, 'startTime': '2024-03-27T06:00:03.255897Z', 'endTime': '2024-03-27T06:00:33.6935164Z', 'type': 'Data'}, {'attemptId': 1, 'startTime': '2024-03-27T06:00:34.0060323Z', 'endTime': '2024-03-27T06:00:34.1935229Z', 'type': 'Query'}]}\n",
      "{'requestId': '0eabdf98-c16f-41aa-bc43-40c523df4bc0', 'id': 16881694, 'refreshType': 'Scheduled', 'startTime': '2024-03-26T06:00:08.627Z', 'endTime': '2024-03-26T06:00:40.16Z', 'status': 'Completed', 'refreshAttempts': [{'attemptId': 1, 'startTime': '2024-03-26T06:00:08.7356671Z', 'endTime': '2024-03-26T06:00:38.1588163Z', 'type': 'Data'}, {'attemptId': 1, 'startTime': '2024-03-26T06:00:38.5026031Z', 'endTime': '2024-03-26T06:00:38.6743716Z', 'type': 'Query'}]}\n",
      "{'requestId': '6d2acd89-66d9-49a3-abd5-151e2d354f35', 'id': 16846300, 'refreshType': 'Scheduled', 'startTime': '2024-03-25T06:00:02.38Z', 'endTime': '2024-03-25T06:00:38.24Z', 'status': 'Completed', 'refreshAttempts': [{'attemptId': 1, 'startTime': '2024-03-25T06:00:03.0974091Z', 'endTime': '2024-03-25T06:00:36.2072232Z', 'type': 'Data'}, {'attemptId': 1, 'startTime': '2024-03-25T06:00:36.4728066Z', 'endTime': '2024-03-25T06:00:36.6446357Z', 'type': 'Query'}]}\n",
      "{'requestId': 'eff4809f-433d-4db3-8224-153d2ebbef47', 'id': 16812358, 'refreshType': 'Scheduled', 'startTime': '2024-03-24T06:00:04.01Z', 'endTime': '2024-03-24T06:00:37.067Z', 'status': 'Completed', 'refreshAttempts': [{'attemptId': 1, 'startTime': '2024-03-24T06:00:04.15039Z', 'endTime': '2024-03-24T06:00:34.768873Z', 'type': 'Data'}, {'attemptId': 1, 'startTime': '2024-03-24T06:00:35.0345223Z', 'endTime': '2024-03-24T06:00:35.3469542Z', 'type': 'Query'}]}\n",
      "{'requestId': '2753076f-981e-4f93-98c3-493b93761924', 'id': 16777537, 'refreshType': 'Scheduled', 'startTime': '2024-03-23T06:00:05.173Z', 'endTime': '2024-03-23T06:00:37.97Z', 'status': 'Completed', 'refreshAttempts': [{'attemptId': 1, 'startTime': '2024-03-23T06:00:05.4228483Z', 'endTime': '2024-03-23T06:00:35.7202344Z', 'type': 'Data'}, {'attemptId': 1, 'startTime': '2024-03-23T06:00:36.0170464Z', 'endTime': '2024-03-23T06:00:36.3451766Z', 'type': 'Query'}]}\n",
      "{'requestId': '9fee9596-eb30-454e-bf02-833faa7c64b5', 'id': 16739839, 'refreshType': 'Scheduled', 'startTime': '2024-03-22T06:00:03.507Z', 'endTime': '2024-03-22T06:00:29.133Z', 'status': 'Completed', 'refreshAttempts': [{'attemptId': 1, 'startTime': '2024-03-22T06:00:03.7417446Z', 'endTime': '2024-03-22T06:00:27.3040283Z', 'type': 'Data'}, {'attemptId': 1, 'startTime': '2024-03-22T06:00:27.7259025Z', 'endTime': '2024-03-22T06:00:27.8977749Z', 'type': 'Query'}]}\n",
      "{'requestId': '97fb5e93-c13c-4cc6-b2ad-81f760b08cb9', 'id': 16699966, 'refreshType': 'Scheduled', 'startTime': '2024-03-21T06:00:04.297Z', 'endTime': '2024-03-21T06:00:37.217Z', 'status': 'Completed', 'refreshAttempts': [{'attemptId': 1, 'startTime': '2024-03-21T06:00:04.5168907Z', 'endTime': '2024-03-21T06:00:34.7005414Z', 'type': 'Data'}, {'attemptId': 1, 'startTime': '2024-03-21T06:00:34.9974091Z', 'endTime': '2024-03-21T06:00:35.1848973Z', 'type': 'Query'}]}\n",
      "{'requestId': '3cc27037-ee7e-4d97-b867-769c3c614aa1', 'id': 16660032, 'refreshType': 'Scheduled', 'startTime': '2024-03-20T06:00:06.007Z', 'endTime': '2024-03-20T06:00:33.95Z', 'status': 'Completed', 'refreshAttempts': [{'attemptId': 1, 'startTime': '2024-03-20T06:00:06.1463127Z', 'endTime': '2024-03-20T06:00:31.9654346Z', 'type': 'Data'}, {'attemptId': 1, 'startTime': '2024-03-20T06:00:32.1998107Z', 'endTime': '2024-03-20T06:00:32.3716858Z', 'type': 'Query'}]}\n",
      "{'requestId': 'a88e7d68-02ab-40df-8bcf-155ee29ba748', 'id': 16622742, 'refreshType': 'Scheduled', 'startTime': '2024-03-19T06:00:04.64Z', 'endTime': '2024-03-19T06:00:31.01Z', 'status': 'Completed', 'refreshAttempts': [{'attemptId': 1, 'startTime': '2024-03-19T06:00:04.7656339Z', 'endTime': '2024-03-19T06:00:29.1805143Z', 'type': 'Data'}, {'attemptId': 1, 'startTime': '2024-03-19T06:00:29.4930146Z', 'endTime': '2024-03-19T06:00:29.7117671Z', 'type': 'Query'}]}\n",
      "{'requestId': '43ac9dfd-208c-4e0f-b7a0-3163c40f93f4', 'id': 16587347, 'refreshType': 'Scheduled', 'startTime': '2024-03-18T06:00:07.21Z', 'endTime': '2024-03-18T06:00:33.71Z', 'status': 'Completed', 'refreshAttempts': [{'attemptId': 1, 'startTime': '2024-03-18T06:00:07.2721368Z', 'endTime': '2024-03-18T06:00:32.2092259Z', 'type': 'Data'}, {'attemptId': 1, 'startTime': '2024-03-18T06:00:32.4436062Z', 'endTime': '2024-03-18T06:00:32.615485Z', 'type': 'Query'}]}\n",
      "{'requestId': '1eccb1f0-0411-4135-aeb9-3a1a4976af48', 'id': 16553004, 'refreshType': 'Scheduled', 'startTime': '2024-03-17T06:00:04.803Z', 'endTime': '2024-03-17T06:00:33.28Z', 'status': 'Completed', 'refreshAttempts': [{'attemptId': 1, 'startTime': '2024-03-17T06:00:04.8511209Z', 'endTime': '2024-03-17T06:00:31.5141932Z', 'type': 'Data'}, {'attemptId': 1, 'startTime': '2024-03-17T06:00:31.7641251Z', 'endTime': '2024-03-17T06:00:32.0766307Z', 'type': 'Query'}]}\n",
      "{'requestId': '4f0522dd-7561-4203-91b0-09a5b46160ac', 'id': 16517755, 'refreshType': 'Scheduled', 'startTime': '2024-03-16T06:00:05.617Z', 'endTime': '2024-03-16T06:00:36.863Z', 'status': 'Completed', 'refreshAttempts': [{'attemptId': 1, 'startTime': '2024-03-16T06:00:05.6775946Z', 'endTime': '2024-03-16T06:00:35.0664598Z', 'type': 'Data'}, {'attemptId': 1, 'startTime': '2024-03-16T06:00:35.3319733Z', 'endTime': '2024-03-16T06:00:35.6444857Z', 'type': 'Query'}]}\n",
      "{'requestId': 'f0b82eab-e44c-44bf-b572-877f5df75ca4', 'id': 16478912, 'refreshType': 'Scheduled', 'startTime': '2024-03-15T06:00:06.183Z', 'endTime': '2024-03-15T06:00:36.747Z', 'status': 'Completed', 'refreshAttempts': [{'attemptId': 1, 'startTime': '2024-03-15T06:00:06.2611098Z', 'endTime': '2024-03-15T06:00:34.5427199Z', 'type': 'Data'}, {'attemptId': 1, 'startTime': '2024-03-15T06:00:34.7926721Z', 'endTime': '2024-03-15T06:00:35.0739816Z', 'type': 'Query'}]}\n",
      "{'requestId': 'f4a0068b-1a0d-d755-57c9-05574ae5df9a', 'id': 16966212, 'refreshType': 'OnDemand', 'startTime': '2024-03-28T12:28:45.36Z', 'endTime': '2024-03-28T12:29:05.72Z', 'status': 'Completed', 'refreshAttempts': [{'attemptId': 1, 'startTime': '2024-03-28T12:28:45.4057661Z', 'endTime': '2024-03-28T12:29:04.7185047Z', 'type': 'Data'}, {'attemptId': 1, 'startTime': '2024-03-28T12:29:05.046645Z', 'endTime': '2024-03-28T12:29:05.234083Z', 'type': 'Query'}]}\n",
      "{'requestId': '86835af7-c875-a941-1d71-1bf88ee333fd', 'id': 16966165, 'refreshType': 'OnDemand', 'startTime': '2024-03-28T12:25:54.67Z', 'endTime': '2024-03-28T12:25:59.14Z', 'serviceExceptionJson': '{\"errorCode\":\"ModelRefresh_ShortMessage_ProcessingError\",\"errorDescription\":\"{\\\\\"error\\\\\":{\\\\\"code\\\\\":\\\\\"DM_GWPipeline_Client_GatewayUnreachable\\\\\",\\\\\"pbi.error\\\\\":{\\\\\"code\\\\\":\\\\\"DM_GWPipeline_Client_GatewayUnreachable\\\\\",\\\\\"parameters\\\\\":{},\\\\\"details\\\\\":[],\\\\\"exceptionCulprit\\\\\":1}}} Table: Catalog - Workspace.\"}', 'status': 'Failed', 'refreshAttempts': [{'attemptId': 1, 'startTime': '2024-03-28T12:25:54.7332496Z', 'endTime': '2024-03-28T12:25:59.1395589Z', 'type': 'Data', 'serviceExceptionJson': '{\"errorCode\":\"ModelRefresh_ShortMessage_ProcessingError\",\"errorDescription\":\"{\\\\\"error\\\\\":{\\\\\"code\\\\\":\\\\\"DM_GWPipeline_Client_GatewayUnreachable\\\\\",\\\\\"pbi.error\\\\\":{\\\\\"code\\\\\":\\\\\"DM_GWPipeline_Client_GatewayUnreachable\\\\\",\\\\\"parameters\\\\\":{},\\\\\"details\\\\\":[],\\\\\"exceptionCulprit\\\\\":1}}} Table: Catalog - Workspace.\"}'}]}\n",
      "{'requestId': '7a34fd22-2e1c-fcde-d8f4-1a596021e6c5', 'id': 16927944, 'refreshType': 'OnDemand', 'startTime': '2024-03-27T13:03:15.157Z', 'endTime': '2024-03-27T13:03:19.397Z', 'serviceExceptionJson': '{\"errorCode\":\"ModelRefresh_ShortMessage_ProcessingError\",\"errorDescription\":\"{\\\\\"error\\\\\":{\\\\\"code\\\\\":\\\\\"DM_GWPipeline_Client_GatewayUnreachable\\\\\",\\\\\"pbi.error\\\\\":{\\\\\"code\\\\\":\\\\\"DM_GWPipeline_Client_GatewayUnreachable\\\\\",\\\\\"parameters\\\\\":{},\\\\\"details\\\\\":[],\\\\\"exceptionCulprit\\\\\":1}}} Table: Catalog - DataSource.\"}', 'status': 'Failed', 'refreshAttempts': [{'attemptId': 1, 'startTime': '2024-03-27T13:03:15.2200235Z', 'endTime': '2024-03-27T13:03:19.3977323Z', 'type': 'Data', 'serviceExceptionJson': '{\"errorCode\":\"ModelRefresh_ShortMessage_ProcessingError\",\"errorDescription\":\"{\\\\\"error\\\\\":{\\\\\"code\\\\\":\\\\\"DM_GWPipeline_Client_GatewayUnreachable\\\\\",\\\\\"pbi.error\\\\\":{\\\\\"code\\\\\":\\\\\"DM_GWPipeline_Client_GatewayUnreachable\\\\\",\\\\\"parameters\\\\\":{},\\\\\"details\\\\\":[],\\\\\"exceptionCulprit\\\\\":1}}} Table: Catalog - DataSource.\"}'}]}\n",
      "{'requestId': 'ce941771-17cf-29a7-b3e2-d930ca107a90', 'id': 16343204, 'refreshType': 'OnDemand', 'startTime': '2024-03-11T17:23:34.067Z', 'endTime': '2024-03-11T17:33:01.28Z', 'serviceExceptionJson': '{\"errorCode\":\"ModelRefresh_ShortMessage_ProcessingError\",\"errorDescription\":\"[ValidateMarkupTags][ccon]Expression.Error: The key didn\\'t match any rows in the table.. Key = [ccon][entity = \\\\\"Catalog - Permissions\\\\\", version = \\\\\"\\\\\"][\\\\/ccon]. Table = [ccon]#table({\\\\\"entity\\\\\", \\\\\"dataCategory\\\\\", \\\\\"Data\\\\\", \\\\\"Tags\\\\\", \\\\\"entityName\\\\\", \\\\\"version\\\\\", \\\\\"ItemKind\\\\\", \\\\\"ItemName\\\\\", \\\\\"IsLeaf\\\\\"}, {})[\\\\/ccon]. [\\\\/ccon];[ccon]The key didn\\'t match any rows in the table.[\\\\/ccon]. The exception was raised by the IDbCommand interface. Table: Catalog - Permission.\"}', 'status': 'Failed', 'refreshAttempts': [{'attemptId': 1, 'startTime': '2024-03-11T17:23:34.1301326Z', 'endTime': '2024-03-11T17:23:51.7241491Z', 'type': 'Data', 'serviceExceptionJson': '{\"errorCode\":\"ModelRefresh_ShortMessage_ProcessingError\",\"errorDescription\":\"[ValidateMarkupTags][ccon]Expression.Error: The key didn\\'t match any rows in the table.. Key = [ccon][entity = \\\\\"Catalog - Permissions\\\\\", version = \\\\\"\\\\\"][\\\\/ccon]. Table = [ccon]#table({\\\\\"entity\\\\\", \\\\\"dataCategory\\\\\", \\\\\"Data\\\\\", \\\\\"Tags\\\\\", \\\\\"entityName\\\\\", \\\\\"version\\\\\", \\\\\"ItemKind\\\\\", \\\\\"ItemName\\\\\", \\\\\"IsLeaf\\\\\"}, {})[\\\\/ccon]. [\\\\/ccon];[ccon]The key didn\\'t match any rows in the table.[\\\\/ccon]. The exception was raised by the IDbCommand interface. Table: Catalog - Permission.\"}'}, {'attemptId': 2, 'startTime': '2024-03-11T17:24:51.7437366Z', 'endTime': '2024-03-11T17:25:29.5042449Z', 'type': 'Data', 'serviceExceptionJson': '{\"errorCode\":\"ModelRefresh_ShortMessage_ProcessingError\",\"errorDescription\":\"[ValidateMarkupTags][ccon]Expression.Error: The key didn\\'t match any rows in the table.. Key = [ccon][entity = \\\\\"Catalog - Permissions\\\\\", version = \\\\\"\\\\\"][\\\\/ccon]. Table = [ccon]#table({\\\\\"entity\\\\\", \\\\\"dataCategory\\\\\", \\\\\"Data\\\\\", \\\\\"Tags\\\\\", \\\\\"entityName\\\\\", \\\\\"version\\\\\", \\\\\"ItemKind\\\\\", \\\\\"ItemName\\\\\", \\\\\"IsLeaf\\\\\"}, {})[\\\\/ccon]. [\\\\/ccon];[ccon]The key didn\\'t match any rows in the table.[\\\\/ccon]. The exception was raised by the IDbCommand interface. Table: Catalog - Permission.\"}'}, {'attemptId': 3, 'startTime': '2024-03-11T17:27:29.5303111Z', 'endTime': '2024-03-11T17:27:43.8430794Z', 'type': 'Data', 'serviceExceptionJson': '{\"errorCode\":\"ModelRefresh_ShortMessage_ProcessingError\",\"errorDescription\":\"[ValidateMarkupTags][ccon]Expression.Error: The key didn\\'t match any rows in the table.. Key = [ccon][entity = \\\\\"Catalog - Permissions\\\\\", version = \\\\\"\\\\\"][\\\\/ccon]. Table = [ccon]#table({\\\\\"entity\\\\\", \\\\\"dataCategory\\\\\", \\\\\"Data\\\\\", \\\\\"Tags\\\\\", \\\\\"entityName\\\\\", \\\\\"version\\\\\", \\\\\"ItemKind\\\\\", \\\\\"ItemName\\\\\", \\\\\"IsLeaf\\\\\"}, {})[\\\\/ccon]. [\\\\/ccon];[ccon]The key didn\\'t match any rows in the table.[\\\\/ccon]. The exception was raised by the IDbCommand interface. Table: Catalog - Permission.\"}'}, {'attemptId': 4, 'startTime': '2024-03-11T17:32:43.8733327Z', 'endTime': '2024-03-11T17:33:01.2799545Z', 'type': 'Data', 'serviceExceptionJson': '{\"errorCode\":\"ModelRefresh_ShortMessage_ProcessingError\",\"errorDescription\":\"[ValidateMarkupTags][ccon]Expression.Error: The key didn\\'t match any rows in the table.. Key = [ccon][entity = \\\\\"Catalog - Permissions\\\\\", version = \\\\\"\\\\\"][\\\\/ccon]. Table = [ccon]#table({\\\\\"entity\\\\\", \\\\\"dataCategory\\\\\", \\\\\"Data\\\\\", \\\\\"Tags\\\\\", \\\\\"entityName\\\\\", \\\\\"version\\\\\", \\\\\"ItemKind\\\\\", \\\\\"ItemName\\\\\", \\\\\"IsLeaf\\\\\"}, {})[\\\\/ccon]. [\\\\/ccon];[ccon]The key didn\\'t match any rows in the table.[\\\\/ccon]. The exception was raised by the IDbCommand interface. Table: Catalog - Permission.\"}'}]}\n",
      "{'requestId': 'deedeeec-a7c6-d0de-3a6f-8e30419fe2b4', 'id': 16966172, 'refreshType': 'OnDemand', 'startTime': '2024-03-28T12:26:04.54Z', 'endTime': '2024-03-28T12:26:42.983Z', 'status': 'Completed', 'refreshAttempts': [{'attemptId': 1, 'startTime': '2024-03-28T12:26:04.5878438Z', 'endTime': '2024-03-28T12:26:41.9528375Z', 'type': 'Data'}, {'attemptId': 1, 'startTime': '2024-03-28T12:26:42.2653936Z', 'endTime': '2024-03-28T12:26:42.4372763Z', 'type': 'Query'}]}\n",
      "{'requestId': '0c2cf6e2-ea13-8ff1-fe12-7d3b77804d3d', 'id': 16966213, 'refreshType': 'OnDemand', 'startTime': '2024-03-28T12:28:48.283Z', 'endTime': '2024-03-28T12:29:00.627Z', 'status': 'Completed', 'refreshAttempts': [{'attemptId': 1, 'startTime': '2024-03-28T12:28:48.3289978Z', 'endTime': '2024-03-28T12:28:59.5010534Z', 'type': 'Data'}, {'attemptId': 1, 'startTime': '2024-03-28T12:28:59.7822357Z', 'endTime': '2024-03-28T12:29:00.1259903Z', 'type': 'Query'}]}\n",
      "{'requestId': 'ded4032e-65fb-08a6-aa7c-9df907503855', 'id': 16966449, 'refreshType': 'OnDemand', 'startTime': '2024-03-28T12:36:49.13Z', 'endTime': '2024-03-28T12:37:07.817Z', 'status': 'Completed', 'refreshAttempts': [{'attemptId': 1, 'startTime': '2024-03-28T12:36:49.1768832Z', 'endTime': '2024-03-28T12:37:06.9740052Z', 'type': 'Data'}, {'attemptId': 1, 'startTime': '2024-03-28T12:37:07.1615246Z', 'endTime': '2024-03-28T12:37:07.3177811Z', 'type': 'Query'}]}\n"
     ]
    }
   ],
   "source": [
    "# GET https://api.powerbi.com/v1.0/myorg/groups/{groupId}/datasets/{datasetId}/refreshes\n",
    "for item in result['value']:\n",
    "    group_id = item['id']\n",
    "    for dataset in item['datasets']:\n",
    "        dataset_id = dataset['id']\n",
    "        if dataset['isRefreshable']==True:\n",
    "            rest_api = f\"https://api.powerbi.com/v1.0/myorg/groups/{group_id}/datasets/{dataset_id}/refreshes\"\n",
    "\n",
    "            response = requests.get(url=rest_api, headers=headers)\n",
    "            if response.ok:\n",
    "                results = response.json()\n",
    "                for result in results['value']:\n",
    "                    if len(result)>0:\n",
    "                        print(result)\n",
    "\n"
   ]
  }
 ],
 "metadata": {
  "kernelspec": {
   "display_name": "fabric",
   "language": "python",
   "name": "python3"
  },
  "language_info": {
   "codemirror_mode": {
    "name": "ipython",
    "version": 3
   },
   "file_extension": ".py",
   "mimetype": "text/x-python",
   "name": "python",
   "nbconvert_exporter": "python",
   "pygments_lexer": "ipython3",
   "version": "3.10.13"
  }
 },
 "nbformat": 4,
 "nbformat_minor": 2
}
