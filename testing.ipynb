{
 "cells": [
  {
   "cell_type": "code",
   "execution_count": 1,
   "metadata": {},
   "outputs": [],
   "source": [
    "import asyncio\n",
    "import json\n",
    "import requests\n",
    "from datetime import datetime, timezone\n",
    "\n",
    "from app.utility.helps import Bob"
   ]
  },
  {
   "cell_type": "code",
   "execution_count": 2,
   "metadata": {},
   "outputs": [],
   "source": [
    "from app.modules.activity import main as Activity\n",
    "from app.modules.apps import main as Apps\n",
    "from app.modules.catalog import main as Catalog\n",
    "from app.modules.graph import main as Graph\n",
    "from app.modules.tenant import main as Tenant\n",
    "from app.modules.refreshhistory import main as RefreshHistory\n",
    "from app.modules.refreshables import main as Refreshables\n",
    "from app.modules.gateway import main as Gateway\n"
   ]
  },
  {
   "cell_type": "code",
   "execution_count": 3,
   "metadata": {},
   "outputs": [],
   "source": [
    "bob = Bob()\n",
    "state = bob.get_state()\n",
    "settings = bob.get_settings()\n",
    "headers = bob.get_context()"
   ]
  },
  {
   "cell_type": "code",
   "execution_count": 4,
   "metadata": {},
   "outputs": [
    {
     "data": {
      "text/plain": [
       "{'activity': {'lastRun': '2024-05-09T17:31:32.369943Z'},\n",
       " 'apps': {'lastRun': '2024-05-09T17:31:32.369969Z'},\n",
       " 'catalog': {'lastFullScan': '2024-05-02T13:34:21.775126Z',\n",
       "  'lastRun': '2024-05-09T17:31:32.369973Z'},\n",
       " 'gateway': {'lastRun': '2024-05-09T17:31:32.369986Z'},\n",
       " 'graph': {'lastRun': '2024-05-09T17:31:32.369977Z'},\n",
       " 'refreshables': {'lastRun': '2024-05-09T17:31:32.369989Z'},\n",
       " 'refreshhistory': {'lastRun': '2024-05-09T17:31:32.369983Z'},\n",
       " 'tenant': {'lastRun': '2024-05-09T17:31:32.369980Z'}}"
      ]
     },
     "execution_count": 4,
     "metadata": {},
     "output_type": "execute_result"
    }
   ],
   "source": [
    "state"
   ]
  },
  {
   "cell_type": "code",
   "execution_count": null,
   "metadata": {},
   "outputs": [],
   "source": [
    "from croniter import croniter\n",
    "\n",
    "def scheduler(cron_time, last_run=None):\n",
    "\n",
    "    year = datetime.now().year\n",
    "    month = datetime.now().month\n",
    "    day = datetime.now().day\n",
    "\n",
    "    local_date = datetime(year, month, day, tzinfo=timezone.utc)\n",
    "    val = croniter(cron_time, local_date).get_next(datetime)\n",
    "    last_run = bob.convert_dt_str(last_run)\n",
    "    print(last_run)\n",
    "\n",
    "    # Determine if the current day of the week is the same as the value for day of the week in the cron value\n",
    "    current_day_of_week = datetime.now().strftime(\"%A\")\n",
    "    cron_day_of_week = cron_time.split(\" \")[4]\n",
    "\n",
    "\n",
    "    # Get the next scheduled datetime\n",
    "    next_datetime = val\n",
    "    print(next_datetime)\n",
    "\n",
    "    # Check if the current datetime matches the next scheduled datetime\n",
    "    if datetime.now().strftime(\"%Y-%m-%d\") == next_datetime.strftime(\"%Y-%m-%d\"):\n",
    "        print(\"Hello World, I am supposed to run today\")\n",
    "    else:\n",
    "        print(\"Goodnight World, I am sleeping\")\n"
   ]
  },
  {
   "cell_type": "code",
   "execution_count": null,
   "metadata": {},
   "outputs": [],
   "source": [
    "def is_function_due(cron_syntax, last_run):\n",
    "    last_run_datetime = last_run\n",
    "\n",
    "    cron = croniter(cron_syntax, last_run_datetime)\n",
    "    next_run_datetime = cron.get_next(datetime)\n",
    "    \n",
    "    print(f\"What is the next run date value {next_run_datetime} and what is the current datetime {datetime.now()}\")\n",
    "\n",
    "    if next_run_datetime.strftime(\"%Y-%m-%d\") <= datetime.now().strftime(\"%Y-%m-%d\"):\n",
    "        return True\n",
    "    else:\n",
    "        return False\n",
    "\n"
   ]
  },
  {
   "cell_type": "code",
   "execution_count": null,
   "metadata": {},
   "outputs": [],
   "source": [
    "from datetime import datetime\n",
    "from croniter import croniter\n",
    "modules = settings.get(\"ApplicationModules\").replace(\" \",\"\").split(\",\")\n",
    "classes = [globals()[module] for module in modules]\n",
    "\n",
    "\n",
    "for module in modules:\n",
    "    cron = settings.get(f\"{module}_cron\")\n",
    "    run = state.get(f\"{module.lower()}\").get(\"lastRun\")\n",
    "\n",
    "    last_run = bob.convert_dt_str(run)    \n",
    "\n",
    "    \n",
    "\n",
    "    if is_function_due(cron,last_run):\n",
    "        print(f\"Function {module} is due to run\")\n",
    "    else:\n",
    "        print(f\"Function {module} is not due to run\")\n",
    "\n",
    "\n"
   ]
  },
  {
   "cell_type": "code",
   "execution_count": null,
   "metadata": {},
   "outputs": [],
   "source": [
    "settings.get(\"Refreshables_cron\")\n",
    "state.get(\"refreshables\").get(\"lastRun\")"
   ]
  },
  {
   "cell_type": "code",
   "execution_count": null,
   "metadata": {},
   "outputs": [],
   "source": [
    "state.get('activity').get('lastRun')"
   ]
  },
  {
   "cell_type": "code",
   "execution_count": null,
   "metadata": {},
   "outputs": [],
   "source": [
    "api_url = 'https://api.powerbi.com/v1.0/myorg/gateways'\n",
    "response = requests.get(url=api_url, headers=headers)\n",
    "results = response.json()\n",
    "print(response.status_code)\n",
    "gateways = list()\n",
    "for gateway in results['value']:\n",
    "    gateways.append(gateway.get(\"id\"))\n"
   ]
  },
  {
   "cell_type": "code",
   "execution_count": null,
   "metadata": {},
   "outputs": [],
   "source": [
    "r = list()\n",
    "for id in gateways:\n",
    "    response = requests.get(f'https://api.powerbi.com/v1.0/myorg/gateways/{id}/datasources', headers=headers)\n",
    "    doc_results = response.json()\n",
    "    r.append(doc_results['value'])   \n"
   ]
  },
  {
   "cell_type": "code",
   "execution_count": null,
   "metadata": {},
   "outputs": [],
   "source": [
    "gateways = list()\n",
    "\n",
    "for i in range(0, len(r)):\n",
    "    if isinstance(r[i], list):\n",
    "        for j in range(0, len(r[i])):\n",
    "            gateways.append(r[i][j])\n",
    "    else:\n",
    "        gateways.append(r[i])"
   ]
  },
  {
   "cell_type": "code",
   "execution_count": null,
   "metadata": {},
   "outputs": [],
   "source": [
    "gateways"
   ]
  },
  {
   "cell_type": "code",
   "execution_count": null,
   "metadata": {},
   "outputs": [],
   "source": [
    "users = list()\n",
    "\n",
    "for i in range(0,len(gateways)):\n",
    "    api_users = f'https://api.powerbi.com/v1.0/myorg/gateways/{gateways[i][\"gatewayId\"]}/datasources/{gateways[i][\"id\"]}/users'\n",
    "    response = requests.get(api_users, headers=headers)\n",
    "    results = response.json()\n",
    "    results['value'][0]['datasourceId'] = gateways[i][\"id\"]\n",
    "    results['value'][0]['gatewayId'] = gateways[i][\"gatewayId\"]\n",
    "    users.append(results['value'][0])\n",
    "    "
   ]
  },
  {
   "cell_type": "markdown",
   "metadata": {},
   "source": [
    "## Datasource Connectivity  \n",
    "\n",
    "This only reports back connectivity to the datasource as an error. Also, you need to use the response.text as the JSON is not populated. A successful connection will report back as HTTP 200 while a failed connection will result in HTTP 400"
   ]
  },
  {
   "cell_type": "code",
   "execution_count": null,
   "metadata": {},
   "outputs": [],
   "source": [
    "## This will be used for a template dictionary for a successful connection to the datasource\n",
    "status_base = {   \n",
    "    \"datasourceId\":\"\",\n",
    "    \"gatewayId\":\"\",\n",
    "    \"error\":\n",
    "    {\n",
    "        \"code\":\"success\",\n",
    "        \"pbi.error\":{ \n",
    "            \"code\":\"0\",\n",
    "            \"parameters\":{},\n",
    "            \"details\":[],\n",
    "            \"exceptionCulprit\":0\n",
    "        }\n",
    "    }\n",
    "}\n"
   ]
  },
  {
   "cell_type": "code",
   "execution_count": null,
   "metadata": {},
   "outputs": [],
   "source": [
    "status  = list()\n",
    "for i in range(0,len(gateways)):\n",
    "    api_status = f'https://api.powerbi.com/v1.0/myorg/gateways/{gateways[i][\"gatewayId\"]}/datasources/{gateways[i][\"id\"]}/status'\n",
    "    \n",
    "    response = requests.get(api_status, headers=headers)\n",
    "    if response.ok:\n",
    "        # response.json() is actually empty when it is a success\n",
    "        \n",
    "        status_base['datasourceId'] = gateways[i][\"id\"]\n",
    "        status_base['gatewayId'] = gateways[i][\"gatewayId\"]\n",
    "        status_base.get(\"error\").get(\"pbi.error\").get(\"details\").append({\"message\":\"success\",\"detail\":response.status_code})    \n",
    "        status.append(status_base)\n",
    "    else:\n",
    "        results = json.loads(response.text)\n",
    "        results[\"datasourceId\"] = gateways[i][\"id\"]\n",
    "        results[\"gatewayId\"] = gateways[i][\"gatewayId\"]\n",
    "        results.get(\"error\").get(\"pbi.error\").get(\"details\").append({\"message\":\"cannot connect\",\"detail\":response.status_code})    \n",
    "        status.append(results)\n"
   ]
  },
  {
   "cell_type": "code",
   "execution_count": null,
   "metadata": {},
   "outputs": [],
   "source": [
    "datasources = list()\n",
    "\n",
    "for i in range(0,len(gateways)):\n",
    "    api_datasource = f'https://api.powerbi.com/v1.0/myorg/gateways/{gateways[i][\"gatewayId\"]}/datasources/{gateways[i][\"id\"]}'\n",
    "    response = requests.get(api_datasource, headers=headers)\n",
    "    results = response.json()\n",
    "    results.pop('@odata.context')\n",
    "    datasources.append(results)\n"
   ]
  },
  {
   "cell_type": "markdown",
   "metadata": {},
   "source": []
  },
  {
   "cell_type": "code",
   "execution_count": null,
   "metadata": {},
   "outputs": [],
   "source": [
    "import smtplib\n",
    "from email.mime.text import MIMEText\n",
    "\n",
    "sender_email = 'brcampb@microsoft.com'\n",
    "receiver_email = 'brandonh.campbell@gmail.com'\n",
    "subject = 'Hello from Python!'\n",
    "body = 'This is a test email sent from a Python script.'\n",
    "\n",
    "msg = MIMEText(body)\n",
    "msg['Subject'] = subject\n",
    "msg['From'] = sender_email\n",
    "msg['To'] = receiver_email\n",
    "\n",
    "# Set up the SMTP server (e.g., Gmail)\n",
    "with smtplib.SMTP_SSL('smtp.gmail.com', 465) as server:\n",
    "    server.login(sender_email, 'your_password')\n",
    "    server.sendmail(sender_email, [receiver_email], msg.as_string())\n",
    "\n",
    "\n",
    "\n",
    "sender_email = 'your_email@example.com'\n",
    "receiver_email = 'recipient_email@example.com'\n",
    "subject = 'Hello from Python!'\n",
    "body = 'This is a test email sent from a Python script.'\n",
    "\n",
    "msg = MIMEText(body)\n",
    "msg['Subject'] = subject\n",
    "msg['From'] = sender_email\n",
    "msg['To'] = receiver_email\n",
    "\n",
    "# Set up the SMTP server (e.g., Outlook)\n",
    "with smtplib.SMTP('smtp.office365.com', 587) as server:\n",
    "    server.starttls()\n",
    "    server.login(sender_email, 'your_password')\n",
    "    server.sendmail(sender_email, [receiver_email], msg.as_string())\n"
   ]
  },
  {
   "cell_type": "code",
   "execution_count": null,
   "metadata": {},
   "outputs": [],
   "source": [
    "import smtplib\n",
    "from email.mime.text import MIMEText\n",
    "\n",
    "# Set up the SMTP server\n",
    "smtp_server = 'smtp.gmail.com'\n",
    "smtp_port = 587\n",
    "sender_email = 'your_email@example.com'\n",
    "password = 'your_password'\n",
    "\n",
    "# Create a message\n",
    "subject = 'Hello from Python!'\n",
    "body = 'This is a test email sent from a Python script.'\n",
    "msg = MIMEText(body)\n",
    "msg['Subject'] = subject\n",
    "msg['From'] = sender_email\n",
    "msg['To'] = 'recipient_email@example.com'\n",
    "\n",
    "# Send the email\n",
    "with smtplib.SMTP(smtp_server, smtp_port) as server:\n",
    "    server.starttls()\n",
    "    server.login(sender_email, password)\n",
    "    server.sendmail(sender_email, [msg['To']], msg.as_string())\n"
   ]
  },
  {
   "cell_type": "code",
   "execution_count": null,
   "metadata": {},
   "outputs": [],
   "source": [
    "# rest_api = \"admin/capacities/refreshables\"\n",
    "# GET https://api.powerbi.com/v1.0/myorg/admin/groups?$expand=datasets\n",
    "# htpps://api.powerbi.com/v1.0/myorg/admin/groups?$expand=datasets\n",
    "rest_api = \"https://api.powerbi.com/v1.0/myorg/admin/groups?$expand=datasets&$top=5000\"\n",
    "\n",
    "response = requests.get(url=rest_api, headers=headers)\n",
    "workspaces = response.json()\n"
   ]
  },
  {
   "cell_type": "code",
   "execution_count": null,
   "metadata": {},
   "outputs": [],
   "source": [
    "workspaces"
   ]
  },
  {
   "cell_type": "code",
   "execution_count": null,
   "metadata": {},
   "outputs": [],
   "source": [
    "for item in workspaces['value']:\n",
    "    group_id = item['id']\n",
    "    for dataset in item['datasets']:\n",
    "        dataset_id = dataset['id']\n",
    "        print(dataset)"
   ]
  },
  {
   "cell_type": "code",
   "execution_count": null,
   "metadata": {},
   "outputs": [],
   "source": [
    "# GET https://api.powerbi.com/v1.0/myorg/groups/{groupId}/datasets/{datasetId}/refreshes\n",
    "refresh_history = list()\n",
    "\n",
    "for item in workspaces['value']:\n",
    "    group_id = item['id']\n",
    "    for dataset in item['datasets']:\n",
    "        dataset_id = dataset['id']\n",
    "        if dataset['isRefreshable']==True and dataset['addRowsAPIEnabled']==False:\n",
    "            rest_api = f\"https://api.powerbi.com/v1.0/myorg/groups/{group_id}/datasets/{dataset_id}/refreshes\"\n",
    "\n",
    "            response = requests.get(url=rest_api, headers=headers)\n",
    "            if response.ok:\n",
    "                results = response.json()\n",
    "                for result in results['value']:\n",
    "                    if len(result)>0:\n",
    "                        refresh_history.append(result)\n",
    "\n",
    "\n"
   ]
  },
  {
   "cell_type": "code",
   "execution_count": null,
   "metadata": {},
   "outputs": [],
   "source": [
    "refresh_history"
   ]
  },
  {
   "cell_type": "code",
   "execution_count": null,
   "metadata": {},
   "outputs": [],
   "source": [
    "import pandas as pd\n",
    "\n",
    "fd = pd.DataFrame(refresh_history)\n",
    "fd.head()"
   ]
  },
  {
   "cell_type": "code",
   "execution_count": null,
   "metadata": {},
   "outputs": [],
   "source": [
    "fd[fd['requestId']=='9cbca636-ec64-4ff6-9dfe-9e2e5acc3056']['refreshAttempts'][0]"
   ]
  },
  {
   "cell_type": "code",
   "execution_count": null,
   "metadata": {},
   "outputs": [],
   "source": [
    "import pandas as pd\n",
    "\n",
    "def normalize(df:pd.DataFrame(), base2:pd.DataFrame(), json_column='workspace_id'):\n",
    "    for row in df.itertuples():\n",
    "        column_number = df.columns.get_loc(json_column)+1\n",
    "        if isinstance(row[column_number], list) and len(row[column_number])>0:\n",
    "            for item in row[column_number]:\n",
    "                # item[id_name] = row.id\n",
    "                base2 = pd.concat([base2, df, pd.json_normalize(item)])\n",
    "                base2.drop(json_column, axis=1, inplace=True)\n",
    "        else:\n",
    "            if isinstance(row[column_number], dict):\n",
    "                print(\"Yes it is a dictionary\")\n",
    "                base2 = pd.concat([base2, df, pd.json_normalize(row[column_number])])\n",
    "                base2.drop(json_column, axis=1, inplace=True)\n",
    "    return base2"
   ]
  },
  {
   "cell_type": "code",
   "execution_count": null,
   "metadata": {},
   "outputs": [],
   "source": [
    "dd = normalize(fd, pd.DataFrame(), 'refreshAttempts')\n",
    "dd.head()"
   ]
  },
  {
   "cell_type": "code",
   "execution_count": null,
   "metadata": {},
   "outputs": [],
   "source": [
    "de = normalize(dd, pd.DataFrame(), 'serviceExceptionJson')\n",
    "de"
   ]
  },
  {
   "cell_type": "code",
   "execution_count": null,
   "metadata": {},
   "outputs": [],
   "source": [
    "import json\n",
    "\n",
    "string_dict = \"{'id': '8271b9f0-3ff7-46b5-9f8a-5a3ba59d01b7', 'name': 'FabricMonitor', 'addRowsAPIEnabled': False, 'configuredBy': 'brandon.campbell@mngenvmcap084084.onmicrosoft.com', 'isRefreshable': True, 'isEffectiveIdentityRequired': False, 'isEffectiveIdentityRolesRequired': False, 'targetStorageMode': 'Abf', 'createdDate': '2024-03-27T18:42:49.663Z', 'contentProviderType': 'PbixInImportMode', 'upstreamDatasets': [], 'users': [], 'isInPlaceSharingEnabled': False}\"\n",
    "\n",
    "\n",
    "\n",
    "print(dict_obj)\n"
   ]
  },
  {
   "cell_type": "code",
   "execution_count": null,
   "metadata": {},
   "outputs": [],
   "source": [
    "for row in dd.itertuples():\n",
    "    if isinstance(row.serviceExceptionJson, list) and len(row.serviceExceptionJson)>0:\n",
    "        for item in row.serviceExceptionJson:\n",
    "            print(item)\n",
    "    else:\n",
    "        if isinstance(row.serviceExceptionJson, str):\n",
    "            print(\"Yes it is a dictionary\")\n",
    "            print(row.serviceExceptionJson)"
   ]
  },
  {
   "cell_type": "code",
   "execution_count": null,
   "metadata": {},
   "outputs": [],
   "source": [
    "api=\"https://api.powerbi.com/v1.0/myorg/admin/capacities/refreshables?$top=5000\"\n",
    "\n",
    "refreshables = list()\n",
    "\n",
    "response = requests.get(url=api, headers=headers)\n",
    "if response.ok:\n",
    "    results = response.json()\n",
    "    for result in results['value']:\n",
    "        refreshables.append(result)\n",
    "\n",
    "        "
   ]
  },
  {
   "cell_type": "code",
   "execution_count": null,
   "metadata": {},
   "outputs": [],
   "source": [
    "if len(refresh_history)>=len(refreshables):\n",
    "    print(\"there is more information in refresh_history than in refreshables\")\n",
    "else:\n",
    "    print(\"there is more information in refreshables than in refresh_history\")"
   ]
  },
  {
   "cell_type": "code",
   "execution_count": null,
   "metadata": {},
   "outputs": [],
   "source": [
    "refresh_history[0]"
   ]
  },
  {
   "cell_type": "code",
   "execution_count": null,
   "metadata": {},
   "outputs": [],
   "source": [
    "import pandas as pd\n",
    "\n",
    "df = pd.json_normalize(refreshables)\n",
    "df.head()"
   ]
  },
  {
   "cell_type": "code",
   "execution_count": null,
   "metadata": {},
   "outputs": [],
   "source": [
    "df2 = pd.json_normalize(refresh_history)"
   ]
  },
  {
   "cell_type": "code",
   "execution_count": null,
   "metadata": {},
   "outputs": [],
   "source": [
    "df2.head()"
   ]
  },
  {
   "cell_type": "code",
   "execution_count": null,
   "metadata": {},
   "outputs": [],
   "source": [
    "df.to_csv('refreshables.csv', index=False)\n",
    "df2.to_csv('refresh_history.csv', index=False)"
   ]
  },
  {
   "cell_type": "code",
   "execution_count": null,
   "metadata": {},
   "outputs": [],
   "source": [
    "df3 = df2[['requestId','refreshAttempts']]"
   ]
  },
  {
   "cell_type": "code",
   "execution_count": null,
   "metadata": {},
   "outputs": [],
   "source": [
    "import pandas as pd\n",
    "\n",
    "# Assuming the DataFrame with the column 'refreshAttempts' is named 'df'\n",
    "df_expanded = pd.json_normalize(df3['refreshAttempts'])\n",
    "\n",
    "# Merge the expanded DataFrame with the original DataFrame\n",
    "df_merged = pd.concat([df3.drop('refreshAttempts', axis=1), df_expanded], axis=1)\n"
   ]
  },
  {
   "cell_type": "code",
   "execution_count": null,
   "metadata": {},
   "outputs": [],
   "source": [
    "df_merged.head()"
   ]
  },
  {
   "cell_type": "code",
   "execution_count": null,
   "metadata": {},
   "outputs": [],
   "source": [
    "df_unpivoted = df_merged.melt(id_vars=['requestId'], var_name='column', value_name='value')\n",
    "df_unpivoted.rename(columns={'requestId':'requestId','column':'column','value':'refreshAttempts'}, inplace=True)\n",
    "\n"
   ]
  },
  {
   "cell_type": "code",
   "execution_count": null,
   "metadata": {},
   "outputs": [],
   "source": [
    "df_unpivoted.head()"
   ]
  },
  {
   "cell_type": "code",
   "execution_count": null,
   "metadata": {},
   "outputs": [],
   "source": [
    "import pandas as pd\n",
    "import json\n",
    "\n",
    "# Convert JSON column to DataFrame\n",
    "df_refreshAttempts = pd.json_normalize(df_unpivoted['refreshAttempts'])\n",
    "\n",
    "# Merge the original DataFrame with the new DataFrame\n",
    "df_merged = pd.concat([df_unpivoted.drop('refreshAttempts', axis=1), df_refreshAttempts], axis=1)\n",
    "df_merged.head()"
   ]
  },
  {
   "cell_type": "code",
   "execution_count": null,
   "metadata": {},
   "outputs": [],
   "source": [
    "refresh_history_clean = df_merged[['requestId','attemptId','startTime','endTime','serviceExceptionJson']]\n",
    "refresh_history_clean.head()"
   ]
  },
  {
   "cell_type": "code",
   "execution_count": null,
   "metadata": {},
   "outputs": [],
   "source": [
    "refresh_history_cleanest = df2.merge(refresh_history_clean, on='requestId', how='left')\n",
    "refresh_history_cleanest.head()"
   ]
  },
  {
   "cell_type": "code",
   "execution_count": null,
   "metadata": {},
   "outputs": [],
   "source": [
    "refresh_history_cleanest.drop(columns=['refreshAttempts'], inplace=True)"
   ]
  },
  {
   "cell_type": "code",
   "execution_count": null,
   "metadata": {},
   "outputs": [],
   "source": [
    "refresh_history_cleanest.to_csv('refresh_history_cleanest.csv', index=False)"
   ]
  },
  {
   "cell_type": "code",
   "execution_count": 4,
   "metadata": {},
   "outputs": [
    {
     "name": "stdout",
     "output_type": "stream",
     "text": [
      "--base\n",
      "--fullscan\n"
     ]
    }
   ],
   "source": [
    "args = ['--base','true','--fullscan','30']\n",
    "for i in range(0, len(args), 2):\n",
    "    print(args[i])\n",
    "    # if args[i] == '--base':\n",
    "    #     print(args[i+1])\n"
   ]
  },
  {
   "cell_type": "code",
   "execution_count": 9,
   "metadata": {},
   "outputs": [
    {
     "name": "stdout",
     "output_type": "stream",
     "text": [
      "{'domains': [{'id': '842d03f8-6149-44f0-8118-615055541b54', 'displayName': 'Research', 'description': 'This is for research and exploration of new services', 'parentDomainId': None, 'contributorsScope': 'AllTenant'}, {'id': '2797b89f-3a17-4b9c-b2be-c9d148df7212', 'displayName': 'Finance', 'description': '', 'parentDomainId': None, 'contributorsScope': 'AllTenant'}, {'id': '34ee7608-9ff7-4bbe-92b1-399036ad963e', 'displayName': 'Accounting', 'description': '', 'parentDomainId': '2797b89f-3a17-4b9c-b2be-c9d148df7212', 'contributorsScope': 'AllTenant'}]}\n"
     ]
    }
   ],
   "source": [
    "response = requests.get(\"https://api.fabric.microsoft.com/v1/admin/domains\", headers=headers)\n",
    "if response.ok:\n",
    "    print(response.json())\n",
    "    v = response.json()\n"
   ]
  },
  {
   "cell_type": "code",
   "execution_count": 10,
   "metadata": {},
   "outputs": [
    {
     "data": {
      "text/plain": [
       "{'domains': [{'id': '842d03f8-6149-44f0-8118-615055541b54',\n",
       "   'displayName': 'Research',\n",
       "   'description': 'This is for research and exploration of new services',\n",
       "   'parentDomainId': None,\n",
       "   'contributorsScope': 'AllTenant'},\n",
       "  {'id': '2797b89f-3a17-4b9c-b2be-c9d148df7212',\n",
       "   'displayName': 'Finance',\n",
       "   'description': '',\n",
       "   'parentDomainId': None,\n",
       "   'contributorsScope': 'AllTenant'},\n",
       "  {'id': '34ee7608-9ff7-4bbe-92b1-399036ad963e',\n",
       "   'displayName': 'Accounting',\n",
       "   'description': '',\n",
       "   'parentDomainId': '2797b89f-3a17-4b9c-b2be-c9d148df7212',\n",
       "   'contributorsScope': 'AllTenant'}]}"
      ]
     },
     "execution_count": 10,
     "metadata": {},
     "output_type": "execute_result"
    }
   ],
   "source": [
    "v"
   ]
  },
  {
   "cell_type": "code",
   "execution_count": 12,
   "metadata": {},
   "outputs": [
    {
     "name": "stdout",
     "output_type": "stream",
     "text": [
      "{'value': [{'id': '92b03590-d8a4-49dd-9fda-fb5ac7d63340', 'displayName': 'wide world'}, {'id': '64c99867-e543-4f43-b14b-21b2a1f4e51e', 'displayName': 'DIAD_Fabric'}]}\n",
      "{'value': []}\n",
      "{'value': [{'id': 'b8d55d2b-9e29-4ee7-9bfd-bf3a361c06b4', 'displayName': 'DIAD Dev'}, {'id': 'b2255426-ee02-48c0-bafe-99ca4e543aee', 'displayName': 'DIAD Test'}, {'id': '4767cf39-c532-452a-83f8-1dfa6b8654b5', 'displayName': 'DIAD_CHEMOURS_20231018'}, {'id': 'b737bc45-8ed5-468a-9261-d3cb1de29e25', 'displayName': 'DIAD Dev [Test]'}]}\n"
     ]
    }
   ],
   "source": [
    "domains = v.get(\"domains\")\n",
    "for domain in domains:\n",
    "    domainId = domain['id']\n",
    "\n",
    "    response = requests.get(f\"https://api.fabric.microsoft.com/v1/admin/domains/{domainId}/workspaces\", headers=headers)\n",
    "    if response.ok:\n",
    "        print(response.json())\n",
    "    else:\n",
    "        print(response.status_code)"
   ]
  },
  {
   "cell_type": "code",
   "execution_count": 13,
   "metadata": {},
   "outputs": [
    {
     "name": "stdout",
     "output_type": "stream",
     "text": [
      "{'workspaces': [{'id': '4a71fab9-5e5c-44d9-9340-096f4d19efff', 'name': 'System Administrator', 'state': 'Active', 'type': 'Personal', 'capacityId': 'D4F9A2C6-47CF-409D-A565-2612122FE020'}, {'id': '78bf6589-a911-41be-becf-249d7164d1c5', 'name': 'Parts Catalog', 'state': 'Active', 'type': 'Workspace', 'capacityId': '8DBA15AB-6D31-4AF4-9FFA-9F8B276B24A0'}, {'id': 'e9789ff4-0368-4877-b90a-7a2320dffc24', 'name': 'Brandon Campbell', 'state': 'Active', 'type': 'Personal', 'capacityId': 'CA91B326-CAFA-48CD-8302-C0F68B13767C'}, {'id': '0352daf5-b0d6-4530-9d10-40e4990aaef7', 'name': '11c0f800-141b-440c-ac88-c37f7daceefe SPList', 'state': 'Active', 'type': 'Personal', 'capacityId': 'D135D974-C1B7-46A8-8F3C-7968E3F8BEE0'}, {'id': '1d688aa2-ef73-492f-8ea7-f7a0d8a9468a', 'name': 'coding-forge', 'state': 'Active', 'type': 'Workspace', 'capacityId': 'B194744E-F9B6-49FD-A72B-4FCB4F085742'}, {'id': '1506ec5c-1b93-4ced-ba12-68079ede225e', 'name': 'machine learning', 'state': 'Active', 'type': 'Workspace', 'capacityId': 'B194744E-F9B6-49FD-A72B-4FCB4F085742'}, {'id': '23525a30-0123-4efa-a09d-b9a6e16c83f6', 'name': 'ML Demo', 'state': 'Active', 'type': 'Workspace', 'capacityId': 'B194744E-F9B6-49FD-A72B-4FCB4F085742'}, {'id': '442cfda5-6975-42e9-93fe-743e7cc082a8', 'name': 'Cog Services Demo', 'state': 'Active', 'type': 'Workspace', 'capacityId': 'B194744E-F9B6-49FD-A72B-4FCB4F085742'}, {'id': 'aeada96a-aa68-4a77-b834-192a43dc098c', 'name': 'Power BI Premium Capacity Metrics', 'state': 'Active', 'type': 'Workspace', 'capacityId': 'CCDF65B7-A675-4B26-BD4F-66AD99322A6D'}, {'id': '24c0bbb2-480d-480b-a75c-0eb59eb9dd9e', 'name': 'R and Python', 'state': 'Active', 'type': 'Workspace', 'capacityId': '8DBA15AB-6D31-4AF4-9FFA-9F8B276B24A0'}, {'id': 'ddaa6a53-9dbc-434b-8347-ba3feba99152', 'name': 'SSO_Demo', 'state': 'Active', 'type': 'Workspace', 'capacityId': 'D86F2641-6C15-4DB7-A4BD-012C551E816E'}, {'id': '069c2b55-e75e-4f22-8ef1-33bbb866cb4d', 'name': 'Chizu Campbell', 'state': 'Active', 'type': 'Personal', 'capacityId': '71A52298-574A-44C3-8391-B70A1B0E3089'}, {'id': 'dd22b93f-aecb-4875-81ac-c0f340525840', 'name': 'Dow Demo Days', 'state': 'Active', 'type': 'Workspace', 'capacityId': '8DBA15AB-6D31-4AF4-9FFA-9F8B276B24A0'}, {'id': 'f49abe50-df50-4c83-9f2e-607b22bd9d10', 'name': 'PowerBI Test Workspace', 'state': 'Active', 'type': 'Workspace', 'capacityId': 'D86F2641-6C15-4DB7-A4BD-012C551E816E'}, {'id': '18c0d3d1-97b9-4098-aba4-6f1c9f12b20c', 'name': 'Joseph', 'state': 'Active', 'type': 'Workspace', 'capacityId': '71A52298-574A-44C3-8391-B70A1B0E3089'}, {'id': '49ae667e-be4d-4a76-9f2c-cced70751090', 'name': 'PowerBItestLab', 'state': 'Active', 'type': 'Workspace', 'capacityId': '89FC7B0B-4C9B-425C-B75E-14C653B8922E'}, {'id': 'c158b24e-275e-4e2f-9a67-404aa3533c5d', 'name': 'PBI Workshop_@lab.User21.Kneebone', 'state': 'Active', 'type': 'Workspace', 'capacityId': 'D86F2641-6C15-4DB7-A4BD-012C551E816E'}, {'id': 'd7e0162d-896d-450e-8bb8-9bc39aa9d88d', 'name': 'PBI Workshop_Sulpizio', 'state': 'Active', 'type': 'Workspace', 'capacityId': '8DBA15AB-6D31-4AF4-9FFA-9F8B276B24A0'}, {'id': '26be685f-f79f-4362-8910-d6f9a13f86fb', 'name': 'PBI Workshop_Naqvi', 'state': 'Active', 'type': 'Workspace', 'capacityId': 'D86F2641-6C15-4DB7-A4BD-012C551E816E'}, {'id': 'd076fd46-0d50-4e7f-b93f-ed2d1fb405be', 'name': 'API Demos', 'state': 'Active', 'type': 'Workspace', 'capacityId': 'B194744E-F9B6-49FD-A72B-4FCB4F085742'}, {'id': '4e0157ef-273d-4f05-b44e-609c025cc603', 'name': 'AI_ML', 'state': 'Active', 'type': 'Workspace', 'capacityId': 'B194744E-F9B6-49FD-A72B-4FCB4F085742'}, {'id': '7b472cbe-5bbd-4713-bbbf-cf2d2c12bdf7', 'name': 'Premium Capacity Utilization And Metrics 7/31/2023 3:19:20 PM', 'state': 'Active', 'type': 'Workspace', 'capacityId': '3F116228-6E9B-451C-B750-19F3A0BE4124'}, {'id': '10b0bca9-bf16-4573-a476-44589f0fe5fa', 'name': '84 Mart', 'state': 'Active', 'type': 'Workspace', 'capacityId': 'B194744E-F9B6-49FD-A72B-4FCB4F085742'}, {'id': 'a45aeb27-742e-471a-91db-c5b82cd97c06', 'name': 'DMart Demo', 'state': 'Active', 'type': 'Workspace', 'capacityId': 'B194744E-F9B6-49FD-A72B-4FCB4F085742'}, {'id': '74c8fe1a-f8bb-48c6-bcba-905126e8e2e0', 'name': 'Office hours', 'state': 'Active', 'type': 'Workspace', 'capacityId': 'CA91B326-CAFA-48CD-8302-C0F68B13767C'}, {'id': '095a0178-d568-4c01-bfae-faf3eadb2357', 'name': 'Chemours Demo Days', 'state': 'Active', 'type': 'Workspace', 'capacityId': 'CA91B326-CAFA-48CD-8302-C0F68B13767C'}, {'id': '4e76dad5-c16f-424a-bf2a-29fa8ee8ff97', 'name': 'Fabric Demo', 'state': 'Active', 'type': 'Workspace', 'capacityId': 'CA91B326-CAFA-48CD-8302-C0F68B13767C'}, {'id': '92b03590-d8a4-49dd-9fda-fb5ac7d63340', 'name': 'wide world', 'state': 'Active', 'type': 'Workspace', 'capacityId': 'CA91B326-CAFA-48CD-8302-C0F68B13767C'}, {'id': '48f0ef75-e5e6-4e81-900a-74bd2ea43bc4', 'name': 'Dow Demo Days II', 'state': 'Active', 'type': 'Workspace', 'capacityId': 'CA91B326-CAFA-48CD-8302-C0F68B13767C'}, {'id': '8fb3fbea-0209-40d4-96bd-275350fe0d10', 'name': 'AI_Machine_Learning', 'state': 'Active', 'type': 'Workspace', 'capacityId': 'CA91B326-CAFA-48CD-8302-C0F68B13767C'}, {'id': '0f31a36f-8be0-45a3-a5e7-46c345fbaec1', 'name': 'chemoursML', 'state': 'Active', 'type': 'Workspace', 'capacityId': 'CA91B326-CAFA-48CD-8302-C0F68B13767C'}, {'id': 'fccd35d4-42a8-4386-a842-54cbcf4b4b88', 'name': 'Admin monitoring', 'state': 'Active', 'type': 'AdminWorkspace', 'capacityId': '2C47EC4F-4525-4E49-A670-7949269E9CC6'}, {'id': 'c5862a9b-9c15-4956-9f5d-fbe3bcc964cd', 'name': 'JCI Demo', 'state': 'Active', 'type': 'Workspace', 'capacityId': 'CA91B326-CAFA-48CD-8302-C0F68B13767C'}, {'id': '64c99867-e543-4f43-b14b-21b2a1f4e51e', 'name': 'DIAD_Fabric', 'state': 'Active', 'type': 'Workspace', 'capacityId': 'CA91B326-CAFA-48CD-8302-C0F68B13767C'}, {'id': '0de32814-b5ab-4766-8ddf-f186c9050bd6', 'name': 'FabricML', 'state': 'Active', 'type': 'Workspace', 'capacityId': 'CA91B326-CAFA-48CD-8302-C0F68B13767C'}, {'id': '9caa0d30-9424-4bcd-945f-a311c2910e71', 'name': 'PBIDevOps', 'state': 'Active', 'type': 'Workspace', 'capacityId': 'CA91B326-CAFA-48CD-8302-C0F68B13767C'}, {'id': '0517666d-7424-4baa-b1a5-576636bb5970', 'name': 'mldemo2', 'state': 'Active', 'type': 'Workspace', 'capacityId': 'CA91B326-CAFA-48CD-8302-C0F68B13767C'}, {'id': 'b8d55d2b-9e29-4ee7-9bfd-bf3a361c06b4', 'name': 'DIAD Dev', 'state': 'Active', 'type': 'Workspace', 'capacityId': 'CA91B326-CAFA-48CD-8302-C0F68B13767C'}, {'id': 'b2255426-ee02-48c0-bafe-99ca4e543aee', 'name': 'DIAD Test', 'state': 'Active', 'type': 'Workspace', 'capacityId': 'CA91B326-CAFA-48CD-8302-C0F68B13767C'}, {'id': 'd70e0343-f173-4d44-87c6-47bd73709c7f', 'name': 'Test Selection', 'state': 'Active', 'type': 'Workspace', 'capacityId': '0B87C77D-7CE5-458B-A191-8E1D53CE2534'}, {'id': 'b02c366a-17db-4b4a-9b19-ef93d65ddb1d', 'name': 'DIAD 20200712', 'state': 'Active', 'type': 'Workspace', 'capacityId': 'CA91B326-CAFA-48CD-8302-C0F68B13767C'}, {'id': '04735a76-4083-4478-95e8-09dda84bb5b8', 'name': 'Microsoft Fabric Capacity Metrics', 'state': 'Active', 'type': 'Workspace', 'capacityId': '71A52298-574A-44C3-8391-B70A1B0E3089'}, {'id': '48ff6933-85c1-4069-a91a-c188a65cf174', 'name': 'EDO_DEV', 'state': 'Active', 'type': 'Workspace', 'capacityId': 'CA91B326-CAFA-48CD-8302-C0F68B13767C'}, {'id': 'cadc5cc9-aaaa-4196-95b3-bb48ed9071bd', 'name': 'EDO-ProjectB', 'state': 'Active', 'type': 'Workspace', 'capacityId': 'CA91B326-CAFA-48CD-8302-C0F68B13767C'}, {'id': '14f07dd3-7afd-41bb-b48f-de60a94dc6d9', 'name': 'EDO Test Final Report', 'state': 'Active', 'type': 'Workspace', 'capacityId': 'CA91B326-CAFA-48CD-8302-C0F68B13767C'}, {'id': '64f1689e-a2f2-4d2e-a1ee-c817eded451e', 'name': 'EDO Final Report', 'state': 'Active', 'type': 'Workspace', 'capacityId': 'CA91B326-CAFA-48CD-8302-C0F68B13767C'}, {'id': '4680d71a-c82a-4e75-8511-c74f788ca23d', 'name': 'enterprise audits', 'state': 'Active', 'type': 'Workspace', 'capacityId': 'CA91B326-CAFA-48CD-8302-C0F68B13767C'}, {'id': '1cd5b65d-a4b9-4923-aed4-0c3d4b73d617', 'name': 'Demos with DIAD', 'state': 'Active', 'type': 'Workspace', 'capacityId': 'CA91B326-CAFA-48CD-8302-C0F68B13767C'}, {'id': '8f61c625-e7af-4120-8376-37167aec1f13', 'name': 'IP_Ranges', 'state': 'Active', 'type': 'Workspace', 'capacityId': 'CA91B326-CAFA-48CD-8302-C0F68B13767C'}, {'id': 'd1517b3e-b9be-44af-85eb-a5d118a4e1be', 'name': '4a93ab0c-5089-47d0-ba2b-c3f9c774ce78 SPList', 'state': 'Active', 'type': 'Personal', 'capacityId': '89FC7B0B-4C9B-425C-B75E-14C653B8922E'}, {'id': '54561b8d-0975-403b-b607-1b8999f44ce9', 'name': 'DAXIAD', 'state': 'Active', 'type': 'Workspace', 'capacityId': 'CA91B326-CAFA-48CD-8302-C0F68B13767C'}, {'id': 'c12a032c-f42b-4e60-bbcf-38ab90763603', 'name': '5d4fb15f-f890-4474-92ef-c81e5da21b89 SPList', 'state': 'Active', 'type': 'Personal', 'capacityId': 'D86F2641-6C15-4DB7-A4BD-012C551E816E'}, {'id': '7a823d03-8b5c-449d-bd67-e7f0ca3204df', 'name': 'MegaData', 'state': 'Active', 'type': 'Workspace', 'capacityId': 'CA91B326-CAFA-48CD-8302-C0F68B13767C'}, {'id': '4767cf39-c532-452a-83f8-1dfa6b8654b5', 'name': 'DIAD_CHEMOURS_20231018', 'state': 'Active', 'type': 'Workspace', 'capacityId': 'CA91B326-CAFA-48CD-8302-C0F68B13767C'}, {'id': '0b9475d6-7769-4d64-a1a6-f63a047fbcf6', 'name': 'Microsoft Fabric Capacity Metrics 4/10/2024 10:11:51 AM', 'state': 'Active', 'type': 'Workspace', 'capacityId': 'D135D974-C1B7-46A8-8F3C-7968E3F8BEE0'}, {'id': '927af1d9-7129-4d24-ba67-1cd086557b3d', 'name': 'SLA Evaluation', 'state': 'Active', 'type': 'Workspace', 'capacityId': 'CA91B326-CAFA-48CD-8302-C0F68B13767C'}, {'id': '5ed3fbb5-9343-4719-ae63-1387bd336e4a', 'name': 'Corteva Demo', 'state': 'Active', 'type': 'Workspace', 'capacityId': 'CA91B326-CAFA-48CD-8302-C0F68B13767C'}, {'id': '59dfe744-e8d8-4218-894c-227736394c77', 'name': 'fabricio', 'state': 'Active', 'type': 'Workspace', 'capacityId': 'CA91B326-CAFA-48CD-8302-C0F68B13767C'}, {'id': 'd60ffb7d-c9c1-4dca-bfb4-d0420d21e0e6', 'name': 'Corteva_OneDrive', 'state': 'Active', 'type': 'Workspace', 'capacityId': 'CA91B326-CAFA-48CD-8302-C0F68B13767C'}, {'id': 'dc9d7ea1-c5f5-4678-86e3-6b1af93d122e', 'name': 'NYC_Taxi', 'state': 'Active', 'type': 'Workspace', 'capacityId': 'CA91B326-CAFA-48CD-8302-C0F68B13767C'}, {'id': '35045c95-7529-4a97-9143-4fe8d33be8ac', 'name': 'NYC_Taxi_Controlled_Access', 'state': 'Active', 'type': 'Workspace', 'capacityId': 'CA91B326-CAFA-48CD-8302-C0F68B13767C'}, {'id': '859da58f-f9c2-4127-98c4-89f841618664', 'name': 'geospatial', 'state': 'Active', 'type': 'Workspace', 'capacityId': 'CA91B326-CAFA-48CD-8302-C0F68B13767C'}, {'id': '0bdff7f3-e631-4c92-bc34-45bfde0f5f08', 'name': 'Fabric_Geo', 'state': 'Active', 'type': 'Workspace', 'capacityId': 'D927182D-4857-4C8A-A940-C2F79AA32B3B'}, {'id': 'b4bc9101-9942-462a-bc99-92e9286de699', 'name': 'Chemours November Demo', 'state': 'Active', 'type': 'Workspace', 'capacityId': 'D927182D-4857-4C8A-A940-C2F79AA32B3B'}, {'id': '9010f5bb-b2c4-47bc-baca-18050aaedb78', 'name': 'AzDO_Demo', 'state': 'Active', 'type': 'Workspace', 'capacityId': 'D927182D-4857-4C8A-A940-C2F79AA32B3B'}, {'id': '1e041018-6a4d-44c7-ae9b-31a832a245c1', 'name': 'PowerBI Monitor', 'state': 'Active', 'type': 'Workspace', 'capacityId': 'D927182D-4857-4C8A-A940-C2F79AA32B3B'}, {'id': 'e63d2505-3a7a-42da-b34a-802aaf620289', 'name': 'Power BI Monitor Large', 'state': 'Active', 'type': 'Workspace', 'capacityId': '65AE4DA3-E4B7-45B0-8B13-2B65177BCFD6'}, {'id': '5927594e-667f-4e42-9c80-a1adeaabcb95', 'name': 'Corteva_2024', 'state': 'Active', 'type': 'Workspace', 'capacityId': 'D927182D-4857-4C8A-A940-C2F79AA32B3B'}, {'id': 'c82e5100-953a-4c4f-b014-4c08e34c5de0', 'name': 'Estate', 'state': 'Active', 'type': 'Workspace', 'capacityId': '65AE4DA3-E4B7-45B0-8B13-2B65177BCFD6'}, {'id': '2176a38b-ecda-4926-85ba-2d27581ebb97', 'name': 'Power BI Monitor Flow', 'state': 'Active', 'type': 'Workspace', 'capacityId': 'D927182D-4857-4C8A-A940-C2F79AA32B3B'}, {'id': 'afc97c94-6951-4d97-bcfb-8be0809987fa', 'name': 'FIAT2', 'state': 'Active', 'type': 'Workspace', 'capacityId': '65AE4DA3-E4B7-45B0-8B13-2B65177BCFD6'}, {'id': 'a380a259-69fa-4ca0-b3b5-f809b55bc14c', 'name': 'Rodney Elmore', 'state': 'Active', 'type': 'Personal', 'capacityId': '3F116228-6E9B-451C-B750-19F3A0BE4124'}, {'id': '6e346dc3-6a37-48ba-93bd-6f7947594540', 'name': 'PBI_Projects', 'state': 'Active', 'type': 'Workspace', 'capacityId': 'D927182D-4857-4C8A-A940-C2F79AA32B3B'}, {'id': '76e607be-4771-46a1-a6cf-c9755175618c', 'name': 'PBI_Projects_Dev', 'state': 'Active', 'type': 'Workspace', 'capacityId': 'D927182D-4857-4C8A-A940-C2F79AA32B3B'}, {'id': 'c3975a5d-0560-40b2-b67a-a83a14bfc992', 'name': 'FabricMonitor', 'state': 'Active', 'type': 'Workspace', 'capacityId': 'D927182D-4857-4C8A-A940-C2F79AA32B3B'}, {'id': '014f3ccd-1b9e-431c-8840-1097d8933727', 'name': 'FabricMonitor [Test]', 'state': 'Active', 'type': 'Workspace', 'capacityId': 'D927182D-4857-4C8A-A940-C2F79AA32B3B'}, {'id': 'b737bc45-8ed5-468a-9261-d3cb1de29e25', 'name': 'DIAD Dev [Test]', 'state': 'Active', 'type': 'Workspace', 'capacityId': 'CA91B326-CAFA-48CD-8302-C0F68B13767C'}], 'continuationUri': None, 'continuationToken': None}\n"
     ]
    }
   ],
   "source": [
    "response = requests.get(\"https://api.fabric.microsoft.com/v1/admin/workspaces\", headers=headers)\n",
    "if response.ok:\n",
    "    print(response.json())"
   ]
  },
  {
   "cell_type": "code",
   "execution_count": null,
   "metadata": {},
   "outputs": [],
   "source": []
  }
 ],
 "metadata": {
  "kernelspec": {
   "display_name": "fabric",
   "language": "python",
   "name": "python3"
  },
  "language_info": {
   "codemirror_mode": {
    "name": "ipython",
    "version": 3
   },
   "file_extension": ".py",
   "mimetype": "text/x-python",
   "name": "python",
   "nbconvert_exporter": "python",
   "pygments_lexer": "ipython3",
   "version": "3.10.13"
  }
 },
 "nbformat": 4,
 "nbformat_minor": 2
}
