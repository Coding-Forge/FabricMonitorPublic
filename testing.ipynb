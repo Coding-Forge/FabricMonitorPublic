{
 "cells": [
  {
   "cell_type": "code",
   "execution_count": 1,
   "metadata": {},
   "outputs": [],
   "source": [
    "import asyncio\n",
    "import json\n",
    "import requests\n",
    "\n",
    "\n",
    "from app.utility.helps import Bob"
   ]
  },
  {
   "cell_type": "code",
   "execution_count": 2,
   "metadata": {},
   "outputs": [],
   "source": [
    "bob = Bob()\n",
    "settings = bob.get_settings()\n",
    "headers = bob.get_context()"
   ]
  },
  {
   "cell_type": "code",
   "execution_count": 3,
   "metadata": {},
   "outputs": [
    {
     "name": "stdout",
     "output_type": "stream",
     "text": [
      "200\n"
     ]
    }
   ],
   "source": [
    "api_url = 'https://api.powerbi.com/v1.0/myorg/gateways'\n",
    "response = requests.get(url=api_url, headers=headers)\n",
    "results = response.json()\n",
    "print(response.status_code)\n",
    "gateways = list()\n",
    "for gateway in results['value']:\n",
    "    gateways.append(gateway.get(\"id\"))\n"
   ]
  },
  {
   "cell_type": "code",
   "execution_count": 4,
   "metadata": {},
   "outputs": [],
   "source": [
    "r = list()\n",
    "for id in gateways:\n",
    "    response = requests.get(f'https://api.powerbi.com/v1.0/myorg/gateways/{id}/datasources', headers=headers)\n",
    "    doc_results = response.json()\n",
    "    r.append(doc_results['value'])   \n"
   ]
  },
  {
   "cell_type": "code",
   "execution_count": 5,
   "metadata": {},
   "outputs": [],
   "source": [
    "gateways = list()\n",
    "\n",
    "for i in range(0, len(r)):\n",
    "    if isinstance(r[i], list):\n",
    "        for j in range(0, len(r[i])):\n",
    "            gateways.append(r[i][j])\n",
    "    else:\n",
    "        gateways.append(r[i])"
   ]
  },
  {
   "cell_type": "code",
   "execution_count": 9,
   "metadata": {},
   "outputs": [
    {
     "data": {
      "text/plain": [
       "[{'id': '4af4f08c-2107-479b-92cf-2a0dfca9b866',\n",
       "  'gatewayId': '04d27518-5e41-47e0-a1f9-3fbe66361826',\n",
       "  'datasourceType': 'File',\n",
       "  'connectionDetails': '{\"path\":\"C:\\\\\\\\Projects\\\\\\\\Ecolab\\\\\\\\Geospatial\\\\\\\\SF Data US Only.xlsx\"}',\n",
       "  'credentialType': 'Windows',\n",
       "  'credentialDetails': {'privacyLevel': 'None',\n",
       "   'useEndUserOAuth2Credentials': False},\n",
       "  'datasourceName': 'C:\\\\Projects\\\\Ecolab\\\\Geospatial\\\\SF Data US Only.xlsx'},\n",
       " {'id': 'a62a82bb-f449-4493-92ec-200054295550',\n",
       "  'gatewayId': '04d27518-5e41-47e0-a1f9-3fbe66361826',\n",
       "  'datasourceType': 'Extension',\n",
       "  'connectionDetails': '{\"extensionDataSourceKind\":\"PowerPlatformDataflows\",\"extensionDataSourcePath\":\"PowerPlatformDataflows\"}',\n",
       "  'credentialType': 'OAuth2',\n",
       "  'credentialDetails': {'privacyLevel': 'Public',\n",
       "   'useEndUserOAuth2Credentials': False},\n",
       "  'datasourceName': 'mydatagateway'},\n",
       " {'id': '4a4e8b34-a5d9-454e-9d86-0b987996a80f',\n",
       "  'gatewayId': 'b910099b-c9d9-4f90-b4cb-6a1bf61244cd',\n",
       "  'datasourceType': 'Extension',\n",
       "  'connectionDetails': '{\"extensionDataSourceKind\":\"PowerPlatformDataflows\",\"extensionDataSourcePath\":\"PowerPlatformDataflows\"}',\n",
       "  'credentialType': 'OAuth2',\n",
       "  'credentialDetails': {'privacyLevel': 'Organizational',\n",
       "   'useEndUserOAuth2Credentials': False},\n",
       "  'datasourceName': 'standardme'}]"
      ]
     },
     "execution_count": 9,
     "metadata": {},
     "output_type": "execute_result"
    }
   ],
   "source": [
    "gateways"
   ]
  },
  {
   "cell_type": "code",
   "execution_count": 6,
   "metadata": {},
   "outputs": [],
   "source": [
    "users = list()\n",
    "\n",
    "for i in range(0,len(gateways)):\n",
    "    api_users = f'https://api.powerbi.com/v1.0/myorg/gateways/{gateways[i][\"gatewayId\"]}/datasources/{gateways[i][\"id\"]}/users'\n",
    "    response = requests.get(api_users, headers=headers)\n",
    "    results = response.json()\n",
    "    results['value'][0]['datasourceId'] = gateways[i][\"id\"]\n",
    "    results['value'][0]['gatewayId'] = gateways[i][\"gatewayId\"]\n",
    "    users.append(results['value'][0])\n",
    "    "
   ]
  },
  {
   "cell_type": "markdown",
   "metadata": {},
   "source": [
    "## Datasource Connectivity  \n",
    "\n",
    "This only reports back connectivity to the datasource as an error. Also, you need to use the response.text as the JSON is not populated. A successful connection will report back as HTTP 200 while a failed connection will result in HTTP 400"
   ]
  },
  {
   "cell_type": "code",
   "execution_count": 7,
   "metadata": {},
   "outputs": [],
   "source": [
    "## This will be used for a template dictionary for a successful connection to the datasource\n",
    "status_base = {   \n",
    "    \"datasourceId\":\"\",\n",
    "    \"gatewayId\":\"\",\n",
    "    \"error\":\n",
    "    {\n",
    "        \"code\":\"success\",\n",
    "        \"pbi.error\":{ \n",
    "            \"code\":\"0\",\n",
    "            \"parameters\":{},\n",
    "            \"details\":[],\n",
    "            \"exceptionCulprit\":0\n",
    "        }\n",
    "    }\n",
    "}\n"
   ]
  },
  {
   "cell_type": "code",
   "execution_count": 8,
   "metadata": {},
   "outputs": [],
   "source": [
    "status  = list()\n",
    "for i in range(0,len(gateways)):\n",
    "    api_status = f'https://api.powerbi.com/v1.0/myorg/gateways/{gateways[i][\"gatewayId\"]}/datasources/{gateways[i][\"id\"]}/status'\n",
    "    \n",
    "    response = requests.get(api_status, headers=headers)\n",
    "    if response.ok:\n",
    "        # response.json() is actually empty when it is a success\n",
    "        \n",
    "        status_base['datasourceId'] = gateways[i][\"id\"]\n",
    "        status_base['gatewayId'] = gateways[i][\"gatewayId\"]\n",
    "        status_base.get(\"error\").get(\"pbi.error\").get(\"details\").append({\"message\":\"success\",\"detail\":response.status_code})    \n",
    "        status.append(status_base)\n",
    "    else:\n",
    "        results = json.loads(response.text)\n",
    "        results[\"datasourceId\"] = gateways[i][\"id\"]\n",
    "        results[\"gatewayId\"] = gateways[i][\"gatewayId\"]\n",
    "        results.get(\"error\").get(\"pbi.error\").get(\"details\").append({\"message\":\"cannot connect\",\"detail\":response.status_code})    \n",
    "        status.append(results)\n"
   ]
  },
  {
   "cell_type": "code",
   "execution_count": 11,
   "metadata": {},
   "outputs": [],
   "source": [
    "datasources = list()\n",
    "\n",
    "for i in range(0,len(gateways)):\n",
    "    api_datasource = f'https://api.powerbi.com/v1.0/myorg/gateways/{gateways[i][\"gatewayId\"]}/datasources/{gateways[i][\"id\"]}'\n",
    "    response = requests.get(api_datasource, headers=headers)\n",
    "    results = response.json()\n",
    "    results.pop('@odata.context')\n",
    "    datasources.append(results)\n"
   ]
  },
  {
   "cell_type": "code",
   "execution_count": 12,
   "metadata": {},
   "outputs": [
    {
     "data": {
      "text/plain": [
       "[{'id': '4af4f08c-2107-479b-92cf-2a0dfca9b866',\n",
       "  'gatewayId': '04d27518-5e41-47e0-a1f9-3fbe66361826',\n",
       "  'datasourceType': 'File',\n",
       "  'connectionDetails': '{\"path\":\"C:\\\\\\\\Projects\\\\\\\\Ecolab\\\\\\\\Geospatial\\\\\\\\SF Data US Only.xlsx\"}',\n",
       "  'credentialType': 'Windows',\n",
       "  'credentialDetails': {'privacyLevel': 'None',\n",
       "   'useEndUserOAuth2Credentials': False},\n",
       "  'datasourceName': 'C:\\\\Projects\\\\Ecolab\\\\Geospatial\\\\SF Data US Only.xlsx'},\n",
       " {'id': 'a62a82bb-f449-4493-92ec-200054295550',\n",
       "  'gatewayId': '04d27518-5e41-47e0-a1f9-3fbe66361826',\n",
       "  'datasourceType': 'Extension',\n",
       "  'connectionDetails': '{\"extensionDataSourceKind\":\"PowerPlatformDataflows\",\"extensionDataSourcePath\":\"PowerPlatformDataflows\"}',\n",
       "  'credentialType': 'OAuth2',\n",
       "  'credentialDetails': {'privacyLevel': 'Public',\n",
       "   'useEndUserOAuth2Credentials': False},\n",
       "  'datasourceName': 'mydatagateway'},\n",
       " {'id': '4a4e8b34-a5d9-454e-9d86-0b987996a80f',\n",
       "  'gatewayId': 'b910099b-c9d9-4f90-b4cb-6a1bf61244cd',\n",
       "  'datasourceType': 'Extension',\n",
       "  'connectionDetails': '{\"extensionDataSourceKind\":\"PowerPlatformDataflows\",\"extensionDataSourcePath\":\"PowerPlatformDataflows\"}',\n",
       "  'credentialType': 'OAuth2',\n",
       "  'credentialDetails': {'privacyLevel': 'Organizational',\n",
       "   'useEndUserOAuth2Credentials': False},\n",
       "  'datasourceName': 'standardme'}]"
      ]
     },
     "execution_count": 12,
     "metadata": {},
     "output_type": "execute_result"
    }
   ],
   "source": [
    "datasources"
   ]
  },
  {
   "cell_type": "markdown",
   "metadata": {},
   "source": []
  },
  {
   "cell_type": "code",
   "execution_count": null,
   "metadata": {},
   "outputs": [],
   "source": [
    "import smtplib\n",
    "from email.mime.text import MIMEText\n",
    "\n",
    "sender_email = 'brcampb@microsoft.com'\n",
    "receiver_email = 'brandonh.campbell@gmail.com'\n",
    "subject = 'Hello from Python!'\n",
    "body = 'This is a test email sent from a Python script.'\n",
    "\n",
    "msg = MIMEText(body)\n",
    "msg['Subject'] = subject\n",
    "msg['From'] = sender_email\n",
    "msg['To'] = receiver_email\n",
    "\n",
    "# Set up the SMTP server (e.g., Gmail)\n",
    "with smtplib.SMTP_SSL('smtp.gmail.com', 465) as server:\n",
    "    server.login(sender_email, 'your_password')\n",
    "    server.sendmail(sender_email, [receiver_email], msg.as_string())\n",
    "\n",
    "\n",
    "\n",
    "sender_email = 'your_email@example.com'\n",
    "receiver_email = 'recipient_email@example.com'\n",
    "subject = 'Hello from Python!'\n",
    "body = 'This is a test email sent from a Python script.'\n",
    "\n",
    "msg = MIMEText(body)\n",
    "msg['Subject'] = subject\n",
    "msg['From'] = sender_email\n",
    "msg['To'] = receiver_email\n",
    "\n",
    "# Set up the SMTP server (e.g., Outlook)\n",
    "with smtplib.SMTP('smtp.office365.com', 587) as server:\n",
    "    server.starttls()\n",
    "    server.login(sender_email, 'your_password')\n",
    "    server.sendmail(sender_email, [receiver_email], msg.as_string())\n"
   ]
  },
  {
   "cell_type": "code",
   "execution_count": null,
   "metadata": {},
   "outputs": [],
   "source": [
    "import smtplib\n",
    "from email.mime.text import MIMEText\n",
    "\n",
    "# Set up the SMTP server\n",
    "smtp_server = 'smtp.gmail.com'\n",
    "smtp_port = 587\n",
    "sender_email = 'your_email@example.com'\n",
    "password = 'your_password'\n",
    "\n",
    "# Create a message\n",
    "subject = 'Hello from Python!'\n",
    "body = 'This is a test email sent from a Python script.'\n",
    "msg = MIMEText(body)\n",
    "msg['Subject'] = subject\n",
    "msg['From'] = sender_email\n",
    "msg['To'] = 'recipient_email@example.com'\n",
    "\n",
    "# Send the email\n",
    "with smtplib.SMTP(smtp_server, smtp_port) as server:\n",
    "    server.starttls()\n",
    "    server.login(sender_email, password)\n",
    "    server.sendmail(sender_email, [msg['To']], msg.as_string())\n"
   ]
  }
 ],
 "metadata": {
  "kernelspec": {
   "display_name": "fabric",
   "language": "python",
   "name": "python3"
  },
  "language_info": {
   "codemirror_mode": {
    "name": "ipython",
    "version": 3
   },
   "file_extension": ".py",
   "mimetype": "text/x-python",
   "name": "python",
   "nbconvert_exporter": "python",
   "pygments_lexer": "ipython3",
   "version": "3.10.13"
  }
 },
 "nbformat": 4,
 "nbformat_minor": 2
}
