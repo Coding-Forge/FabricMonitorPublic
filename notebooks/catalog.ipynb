{
 "cells": [
  {
   "cell_type": "code",
   "execution_count": 3,
   "metadata": {},
   "outputs": [],
   "source": [
    "import json\n",
    "import sys\n",
    "sys.path.append(\"../\")\n",
    "\n",
    "from datetime import datetime, timedelta\n",
    "from app.utility.helps import Bob\n",
    "from app.utility.fabric import File_Table_Management\n",
    "from app.utility.file_management import File_Management"
   ]
  },
  {
   "cell_type": "code",
   "execution_count": 4,
   "metadata": {},
   "outputs": [
    {
     "ename": "KeyError",
     "evalue": "'StorageAccountContainerName'",
     "output_type": "error",
     "traceback": [
      "\u001b[0;31m---------------------------------------------------------------------------\u001b[0m",
      "\u001b[0;31mKeyError\u001b[0m                                  Traceback (most recent call last)",
      "Cell \u001b[0;32mIn[4], line 2\u001b[0m\n\u001b[1;32m      1\u001b[0m bob \u001b[38;5;241m=\u001b[39m Bob()\n\u001b[0;32m----> 2\u001b[0m fm \u001b[38;5;241m=\u001b[39m \u001b[43mFile_Management\u001b[49m\u001b[43m(\u001b[49m\u001b[43m)\u001b[49m\n\u001b[1;32m      3\u001b[0m \u001b[38;5;28;01mtry\u001b[39;00m:\n\u001b[1;32m      4\u001b[0m     d \u001b[38;5;241m=\u001b[39m \u001b[38;5;28;01mawait\u001b[39;00m fm\u001b[38;5;241m.\u001b[39mread(file_name\u001b[38;5;241m=\u001b[39m\u001b[38;5;124m\"\u001b[39m\u001b[38;5;124mstate.yaml\u001b[39m\u001b[38;5;124m\"\u001b[39m)\n",
      "File \u001b[0;32m~/projects/fabric/monitor/public/FabricMonitorPublic/notebooks/../app/utility/file_management.py:15\u001b[0m, in \u001b[0;36mFile_Management.__init__\u001b[0;34m(self)\u001b[0m\n\u001b[1;32m     12\u001b[0m \u001b[38;5;28mself\u001b[39m\u001b[38;5;241m.\u001b[39mbob \u001b[38;5;241m=\u001b[39m Bob()\n\u001b[1;32m     13\u001b[0m \u001b[38;5;28mself\u001b[39m\u001b[38;5;241m.\u001b[39msettings \u001b[38;5;241m=\u001b[39m \u001b[38;5;28mself\u001b[39m\u001b[38;5;241m.\u001b[39mbob\u001b[38;5;241m.\u001b[39mget_settings()\n\u001b[0;32m---> 15\u001b[0m \u001b[38;5;28;01mif\u001b[39;00m \u001b[38;5;28;43mself\u001b[39;49m\u001b[38;5;241;43m.\u001b[39;49m\u001b[43msettings\u001b[49m\u001b[43m[\u001b[49m\u001b[38;5;124;43m'\u001b[39;49m\u001b[38;5;124;43mStorageAccountContainerName\u001b[39;49m\u001b[38;5;124;43m'\u001b[39;49m\u001b[43m]\u001b[49m:\n\u001b[1;32m     16\u001b[0m     \u001b[38;5;28mself\u001b[39m\u001b[38;5;241m.\u001b[39mbfm \u001b[38;5;241m=\u001b[39m Blob_File_Management()\n\u001b[1;32m     17\u001b[0m     \u001b[38;5;28mself\u001b[39m\u001b[38;5;241m.\u001b[39mstorage_location \u001b[38;5;241m=\u001b[39m \u001b[38;5;124m\"\u001b[39m\u001b[38;5;124mblob\u001b[39m\u001b[38;5;124m\"\u001b[39m\n",
      "\u001b[0;31mKeyError\u001b[0m: 'StorageAccountContainerName'"
     ]
    }
   ],
   "source": [
    "bob = Bob()\n",
    "fm = File_Management()\n",
    "try:\n",
    "    d = await fm.read(file_name=\"state.yaml\")\n",
    "except Exception as e:\n",
    "    print(f\"Error: {e}\")\n"
   ]
  },
  {
   "cell_type": "code",
   "execution_count": 7,
   "metadata": {},
   "outputs": [
    {
     "data": {
      "text/plain": [
       "{'activity': {'lastRun': '2024-03-09T09:04:22Z'},\n",
       " 'catalog': {'lastFullScan': '2024-03-09T09:04:22Z',\n",
       "  'lastRun': '2024-03-09T09:04:22Z'}}"
      ]
     },
     "execution_count": 7,
     "metadata": {},
     "output_type": "execute_result"
    }
   ],
   "source": [
    "d"
   ]
  },
  {
   "cell_type": "code",
   "execution_count": 4,
   "metadata": {},
   "outputs": [],
   "source": [
    "d = {'activity': {'lastRun': '2024-03-04T08:16:15Z'},\n",
    " 'catalog': {'lastFullScan': '2024-02-01T08:16:15Z',\n",
    "  'lastRun': '2024-03-04T08:16:15Z'}}\n",
    "\n"
   ]
  },
  {
   "cell_type": "code",
   "execution_count": 5,
   "metadata": {},
   "outputs": [
    {
     "name": "stdout",
     "output_type": "stream",
     "text": [
      "what is the data {'activity': {'lastRun': '2024-03-04T08:16:15Z'}, 'catalog': {'lastFullScan': '2024-02-01T08:16:15Z', 'lastRun': '2024-03-04T08:16:15Z'}}\n"
     ]
    }
   ],
   "source": [
    "bob.save_state(\"local\",d)"
   ]
  },
  {
   "cell_type": "code",
   "execution_count": null,
   "metadata": {},
   "outputs": [],
   "source": [
    "\n"
   ]
  }
 ],
 "metadata": {
  "kernelspec": {
   "display_name": "fabric",
   "language": "python",
   "name": "python3"
  },
  "language_info": {
   "codemirror_mode": {
    "name": "ipython",
    "version": 3
   },
   "file_extension": ".py",
   "mimetype": "text/x-python",
   "name": "python",
   "nbconvert_exporter": "python",
   "pygments_lexer": "ipython3",
   "version": "3.10.13"
  }
 },
 "nbformat": 4,
 "nbformat_minor": 2
}
