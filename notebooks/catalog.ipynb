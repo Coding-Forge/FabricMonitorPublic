{
 "cells": [
  {
   "cell_type": "code",
   "execution_count": 1,
   "metadata": {},
   "outputs": [],
   "source": [
    "import requests\n",
    "import json\n",
    "import sys\n",
    "sys.path.append(\"../\")\n",
    "\n",
    "from datetime import datetime, timedelta\n",
    "from app.utility.helps import Bob\n",
    "from app.utility.fab2 import File_Table_Management"
   ]
  },
  {
   "cell_type": "code",
   "execution_count": 6,
   "metadata": {},
   "outputs": [],
   "source": [
    "bob = Bob()\n",
    "d = bob.get_state(\"local\")"
   ]
  },
  {
   "cell_type": "code",
   "execution_count": 7,
   "metadata": {},
   "outputs": [
    {
     "data": {
      "text/plain": [
       "{'activity': {'lastRun': '2024-03-09T09:04:22Z'},\n",
       " 'catalog': {'lastFullScan': '2024-03-09T09:04:22Z',\n",
       "  'lastRun': '2024-03-09T09:04:22Z'}}"
      ]
     },
     "execution_count": 7,
     "metadata": {},
     "output_type": "execute_result"
    }
   ],
   "source": [
    "d"
   ]
  },
  {
   "cell_type": "code",
   "execution_count": 4,
   "metadata": {},
   "outputs": [],
   "source": [
    "d = {'activity': {'lastRun': '2024-03-04T08:16:15Z'},\n",
    " 'catalog': {'lastFullScan': '2024-02-01T08:16:15Z',\n",
    "  'lastRun': '2024-03-04T08:16:15Z'}}\n",
    "\n"
   ]
  },
  {
   "cell_type": "code",
   "execution_count": 5,
   "metadata": {},
   "outputs": [
    {
     "name": "stdout",
     "output_type": "stream",
     "text": [
      "what is the data {'activity': {'lastRun': '2024-03-04T08:16:15Z'}, 'catalog': {'lastFullScan': '2024-02-01T08:16:15Z', 'lastRun': '2024-03-04T08:16:15Z'}}\n"
     ]
    }
   ],
   "source": [
    "bob.save_state(\"local\",d)"
   ]
  }
 ],
 "metadata": {
  "kernelspec": {
   "display_name": "fabric",
   "language": "python",
   "name": "python3"
  },
  "language_info": {
   "codemirror_mode": {
    "name": "ipython",
    "version": 3
   },
   "file_extension": ".py",
   "mimetype": "text/x-python",
   "name": "python",
   "nbconvert_exporter": "python",
   "pygments_lexer": "ipython3",
   "version": "3.10.13"
  }
 },
 "nbformat": 4,
 "nbformat_minor": 2
}
